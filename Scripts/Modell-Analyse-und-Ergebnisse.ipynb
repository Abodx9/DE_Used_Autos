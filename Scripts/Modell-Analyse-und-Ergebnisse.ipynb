{
 "cells": [
  {
   "metadata": {},
   "cell_type": "markdown",
   "source": "# 1. Import der benötigten Bibliotheken",
   "id": "d86bd8b415ad3e01"
  },
  {
   "metadata": {
    "ExecuteTime": {
     "end_time": "2025-06-17T20:02:26.028308Z",
     "start_time": "2025-06-17T20:02:25.382938Z"
    }
   },
   "cell_type": "code",
   "source": [
    "# Diese Zelle importiert alle notwendigen Bibliotheken für die Datenanalyse, -bereinigung und Visualisierung.\n",
    "\n",
    "import pandas as pd\n",
    "import numpy as np\n",
    "import matplotlib.pyplot as plt\n",
    "import seaborn as sns\n",
    "from scipy.stats import ttest_ind, f_oneway # Für statistische Tests\n",
    "\n",
    "# Scikit-learn Bibliotheken für Modellierung und Pipeline\n",
    "from sklearn.model_selection import train_test_split, RandomizedSearchCV\n",
    "from sklearn.preprocessing import StandardScaler, OneHotEncoder\n",
    "from sklearn.compose import ColumnTransformer\n",
    "from sklearn.pipeline import Pipeline\n",
    "from sklearn.ensemble import RandomForestRegressor, GradientBoostingRegressor\n",
    "from sklearn.linear_model import LinearRegression\n",
    "from sklearn.metrics import mean_absolute_error, mean_squared_error, r2_score\n",
    "\n",
    "\n",
    "# Einstellungen für schönere Plots\n",
    "sns.set_style(\"whitegrid\")\n",
    "plt.rcParams['figure.figsize'] = (10, 6)\n",
    "plt.rcParams['font.size'] = 12\n",
    "\n",
    "print(\"Alle benötigten Bibliotheken wurden erfolgreich importiert.\")"
   ],
   "id": "5c1d5a0ca7695e52",
   "outputs": [
    {
     "name": "stdout",
     "output_type": "stream",
     "text": [
      "Alle benötigten Bibliotheken wurden erfolgreich importiert.\n"
     ]
    }
   ],
   "execution_count": 1
  },
  {
   "metadata": {},
   "cell_type": "markdown",
   "source": "# 2. Daten laden und erste Inspektion",
   "id": "f521e2598260f4a9"
  },
  {
   "metadata": {},
   "cell_type": "code",
   "outputs": [],
   "execution_count": null,
   "source": [
    "# Das Notebook liegt im Ordner 'Scripts' und die CSV im Ordner 'Daten'\n",
    "df = pd.read_csv('../Daten/autoscout24-germany-dataset.csv')\n",
    "\n",
    "print(f\"Datensatz erfolgreich geladen. Form: {df.shape} (Zeilen, Spalten)\")\n",
    "print(\"\\nErste 5 Zeilen des Datensatzes:\")\n",
    "display(df.head()) # 'display' anstelle von 'print' für schönere DataFrame-Ausgabe in Jupyter\n",
    "\n",
    "\n",
    "print(\"\\nInformationen zu den Datentypen und fehlenden Werten:\")\n",
    "df.info()\n",
    "\n",
    "print(\"\\nStatistische Zusammenfassung der numerischen Spalten:\")\n",
    "display(df.describe())\n",
    "\n",
    "# --- Detaillierte erste Einsicht nach dem Laden und Inspizieren ---\n",
    "print(\"\\n--- Detaillierte erste Einsicht in den Datensatz ---\")\n",
    "print(\"Basierend auf der ersten Inspektion des Datensatzes lassen sich folgende erste Beobachtungen festhalten:\")\n",
    "\n",
    "print(\"\\n**1. Datenumfang und Struktur:**\")\n",
    "print(f\"- Der Datensatz umfasst {df.shape[0]} Einträge (Fahrzeuge) und {df.shape[1]} Spalten (Merkmale).\")\n",
    "print(\"- Die `head()`-Ausgabe zeigt typische Merkmale von Gebrauchtwagen wie Kilometerstand (`mileage`), Hersteller (`make`), Modell (`model`), Kraftstoff (`fuel`), Getriebeart (`gear`), Angebotstyp (`offerType`), Preis (`price`), PS (`hp`) und Baujahr (`year`).\")\n",
    "\n",
    "print(\"\\n**2. Datentypen und fehlende Werte (`df.info()`):**\")\n",
    "print(\"- Die meisten Spalten sind als `object` (kategoriale Texte) oder `int64`/`float64` (numerisch) korrekt erkannt worden.\")\n",
    "print(\"- Es sind erste Anzeichen für **fehlende Werte** erkennbar, insbesondere in Spalten wie `hp` (Horsepower) und `model`. Diese müssen in der Datenbereinigung behandelt werden, da fehlende Werte die meisten Machine-Learning-Modelle stören würden.\")\n",
    "print(\"- Die Spalte `offerType` scheint fast ausschließlich 'Used' zu enthalten. Dies deutet darauf hin, dass es sich primär um einen Gebrauchtwagenmarkt handelt.\")\n",
    "\n",
    "print(\"\\n**3. Statistische Zusammenfassung der numerischen Spalten (`df.describe()`):**\")\n",
    "print(\"- **Preis (`price`):**\")\n",
    "print(f\"  - Der durchschnittliche Preis liegt bei ca. {df['price'].mean():,.2f} €.\")\n",
    "print(f\"  - Die Preisspanne ist sehr breit, von minimal {df['price'].min():,.2f} € bis maximal {df['price'].max():,.2f} €. Dies deutet auf eine große Vielfalt an Fahrzeugen hin, aber auch auf das mögliche Vorhandensein von **Ausreißern**, die in späteren Schritten behandelt werden müssen.\")\n",
    "print(f\"  - Die Standardabweichung von {df['price'].std():,.2f} € zeigt eine hohe Variabilität der Preise an.\")\n",
    "print(\"- **Kilometerstand (`mileage`):**\")\n",
    "print(f\"  - Der Kilometerstand variiert von {df['mileage'].min():,} km bis {df['mileage'].max():,} km, mit einem Durchschnitt von ca. {df['mileage'].mean():,.0f} km.\")\n",
    "print(f\"  - Der 75. Perzentil liegt bei {df['mileage'].quantile(0.75):,.0f} km, was auf eine Tendenz zu höheren Kilometerständen hinweist.\")\n",
    "print(\"- **PS (`hp`):**\")\n",
    "print(f\"  - Die Leistung reicht von {df['hp'].min():.0f} PS bis {df['hp'].max():.0f} PS. Die Standardabweichung ist relativ hoch, was eine breite Streuung in der Motorisierung der Fahrzeuge impliziert.\")\n",
    "print(f\"  - Der Medianwert (50. Perzentil) liegt bei {df['hp'].median():.0f} PS, was im Vergleich zum Maximum darauf hindeutet, dass viele Fahrzeuge im unteren bis mittleren Leistungsbereich liegen.\")\n",
    "print(\"- **Baujahr (`year`):**\")\n",
    "print(f\"  - Die Fahrzeuge stammen aus den Jahren {df['year'].min()} bis {df['year'].max()}. Die Spalte `year` wird später für die Berechnung des Fahrzeugalters (`age`) genutzt werden.\")\n",
    "\n",
    "print(\"\\n**Erster Fazit:**\")\n",
    "print(\"- Der Datensatz scheint eine solide Basis für die Preisvorhersage zu bieten, erfordert jedoch eine sorgfältige Vorverarbeitung, insbesondere im Umgang mit fehlenden Werten und potenziellen Ausreißern.\")\n",
    "print(\"- Die breiten Spannen in Preis, Kilometerstand und PS lassen bereits vermuten, dass diese Merkmale starke Prädiktoren für den Fahrzeugpreis sein werden.\")\n",
    "print(\"\\n--- Ende der detaillierten ersten Einsicht ---\")"
   ],
   "id": "55a1c6e29a527769"
  },
  {
   "metadata": {},
   "cell_type": "markdown",
   "source": "# 3. Datenbereinigung und Feature Engineering",
   "id": "338ebf18099a879e"
  },
  {
   "metadata": {},
   "cell_type": "code",
   "outputs": [],
   "execution_count": null,
   "source": [
    "# Dieser Schritt ist entscheidend, um die Qualität der Daten sicherzustellen und neue, potenziell nützliche Features zu erstellen.\n",
    "print(\"\\n--- Start der Datenbereinigung und Feature Engineering ---\")"
   ],
   "id": "33b76e8c30149a29"
  },
  {
   "metadata": {},
   "cell_type": "markdown",
   "source": "## 3.1 Umgang mit doppelten und fehlenden Werten",
   "id": "8a79c2a6457ce7b6"
  },
  {
   "metadata": {},
   "cell_type": "code",
   "outputs": [],
   "execution_count": null,
   "source": [
    "# Doppelte Einträge können das Modell verzerren und zu Overfitting führen.\n",
    "# Fehlende Werte müssen behandelt werden, da die meisten ML-Algorithmen damit nicht umgehen können.\n",
    "print(f\"Anzahl fehlender Werte vor Bereinigung: {df.isnull().sum().sum()}\")\n",
    "print(f\"Anzahl doppelter Zeilen vor Bereinigung: {df.duplicated().sum()}\")\n",
    "\n",
    "df.drop_duplicates(inplace=True)\n",
    "df.dropna(inplace=True) # Wir entfernen Zeilen mit fehlenden Werten für eine saubere Analyse."
   ],
   "id": "974a9426c66baa44"
  },
  {
   "metadata": {},
   "cell_type": "code",
   "outputs": [],
   "execution_count": null,
   "source": [
    "print(f\"\\nDatensatzform nach Entfernung von Duplikaten und fehlenden Werten: {df.shape}\")\n",
    "print(f\"Anzahl fehlender Werte nach Bereinigung: {df.isnull().sum().sum()}\")\n",
    "print(f\"Anzahl doppelter Zeilen nach Bereinigung: {df.duplicated().sum()}\")"
   ],
   "id": "df88fe237f51c18c"
  },
  {
   "metadata": {},
   "cell_type": "markdown",
   "source": "## 3.2 Feature Engineering: Erstellung neuer, nützlicher Merkmale",
   "id": "c8caca00dc251ef9"
  },
  {
   "metadata": {},
   "cell_type": "code",
   "outputs": [],
   "execution_count": null,
   "source": [
    "# 'age' (Alter des Fahrzeugs): Ein Auto verliert mit dem Alter an Wert.\n",
    "# Wir berechnen das Alter basierend auf dem aktuellen Jahr (2025).\n",
    "aktuelles_jahr = 2025 # Stand des Datensatzes ist bis 2021, daher für realitätsnahe Berechnung das Jahr 2025 annehmen.\n",
    "df['age'] = aktuelles_jahr - df['year']\n",
    "print(f\"\\n'age' Spalte hinzugefügt. Max Alter: {df['age'].max()} Jahre, Min Alter: {df['age'].min()} Jahre.\")\n",
    "\n",
    "# 'price_per_mileage' (Preis pro Kilometer): Könnte ein Indikator für den Wert pro Abnutzung sein.\n",
    "# Vermeide Division durch Null, falls mileage 0 sein könnte (hier nicht erwartet, aber gute Praxis).\n",
    "# Bei 0 km (Neuwagen/Pre-registered) könnte dies problematisch sein, daher absichern.\n",
    "df['price_per_mileage'] = df.apply(lambda row: row['price'] / row['mileage'] if row['mileage'] > 0 else row['price'], axis=1)\n",
    "print(\"'price_per_mileage' Spalte hinzugefügt.\")"
   ],
   "id": "f6fec28fab045b6f"
  },
  {
   "metadata": {},
   "cell_type": "markdown",
   "source": "## 3.3 Umgang mit Ausreißern (Outlier Treatment)",
   "id": "9b2e86048239741b"
  },
  {
   "metadata": {},
   "cell_type": "code",
   "outputs": [],
   "execution_count": null,
   "source": [
    "# Ausreißer in der Zielvariablen ('price') können das Modelltraining stark beeinflussen.\n",
    "# Wir verwenden die Interquartilsbereichs-Methode (IQR), um extreme Ausreißer zu identifizieren und zu entfernen.\n",
    "Q1 = df['price'].quantile(0.25)\n",
    "Q3 = df['price'].quantile(0.75)\n",
    "IQR = Q3 - Q1\n",
    "untergrenze_price = Q1 - 1.5 * IQR\n",
    "obergrenze_price = Q3 + 1.5 * IQR\n",
    "\n",
    "# Filtere den DataFrame, um Zeilen außerhalb der Ausreißergrenzen zu entfernen\n",
    "df_bereinigt = df[(df['price'] >= untergrenze_price) & (df['price'] <= obergrenze_price)].copy() # Wichtig: .copy()\n",
    "\n",
    "print(f\"\\nAnzahl der entfernten Preis-Ausreißer: {df.shape[0] - df_bereinigt.shape[0]} Zeilen.\")\n",
    "print(f\"Datensatzform nach Ausreißer-Bereinigung: {df_bereinigt.shape}\")\n",
    "\n",
    "#Todo: Hier Optional entscheiden\n",
    "\n",
    "# Optional: Ausreißer bei 'hp' und 'mileage' könnten auch berücksichtigt werden,\n",
    "# aber für den Anfang konzentrieren wir uns auf 'price'.\n",
    "\n",
    "# Wir verwenden nun den bereinigten DataFrame für die weitere Analyse\n",
    "df = df_bereinigt\n",
    "print(\"\\nDatenbereinigung und Feature Engineering abgeschlossen. Der 'df'-DataFrame wurde aktualisiert.\")"
   ],
   "id": "6bfc5ec3a618e3b0"
  },
  {
   "metadata": {},
   "cell_type": "markdown",
   "source": "# 4. Explorative Datenanalyse (EDA) - Überblick",
   "id": "4d54744eb54b64cc"
  },
  {
   "metadata": {},
   "cell_type": "code",
   "outputs": [],
   "execution_count": null,
   "source": [
    "# Bevor wir ins Detail gehen, verschaffen wir uns einen Überblick über die Verteilung der Daten\n",
    "# und erste Korrelationen, insbesondere in Bezug auf den Preis.\n",
    "\n",
    "print(\"\\n--- Start der Explorativen Datenanalyse (EDA) ---\")"
   ],
   "id": "62b085791dbc8908"
  },
  {
   "metadata": {},
   "cell_type": "markdown",
   "source": "## 4.1 Verteilung der Zielvariablen: 'price'",
   "id": "8c8f25fc9fad1844"
  },
  {
   "metadata": {},
   "cell_type": "code",
   "outputs": [],
   "execution_count": null,
   "source": [
    "# Ein Histogramm zeigt uns die Verteilung der Autopreise. Dies hilft zu verstehen,\n",
    "# ob die Preise eher normalverteilt sind oder Schieflagen aufweisen.\n",
    "plt.figure(figsize=(10, 6))\n",
    "sns.histplot(df['price'], bins=50, kde=True, color='skyblue')\n",
    "plt.title('Verteilung der Autopreise (€)', fontsize=16)\n",
    "plt.xlabel('Preis (€)', fontsize=14)\n",
    "plt.ylabel('Anzahl der Fahrzeuge', fontsize=14)\n",
    "plt.show()"
   ],
   "id": "6c60ea9a0f9a57e6"
  },
  {
   "metadata": {},
   "cell_type": "markdown",
   "source": "## 4.2 Verteilung der numerischen Features",
   "id": "4a69ca73325a2088"
  },
  {
   "metadata": {},
   "cell_type": "code",
   "outputs": [],
   "execution_count": null,
   "source": [
    "# Wir visualisieren die Verteilung von 'mileage', 'hp' und 'age'.\n",
    "fig, axes = plt.subplots(1, 3, figsize=(18, 6))\n",
    "\n",
    "sns.histplot(df['mileage'], bins=30, kde=True, ax=axes[0], color='lightcoral')\n",
    "axes[0].set_title('Verteilung des Kilometerstands', fontsize=14)\n",
    "axes[0].set_xlabel('Kilometerstand', fontsize=12)\n",
    "\n",
    "sns.histplot(df['hp'], bins=30, kde=True, ax=axes[1], color='lightgreen')\n",
    "axes[1].set_title('Verteilung der PS (Horsepower)', fontsize=14)\n",
    "axes[1].set_xlabel('PS', fontsize=12)\n",
    "\n",
    "sns.histplot(df['age'], bins=30, kde=True, ax=axes[2], color='gold')\n",
    "axes[2].set_title('Verteilung des Fahrzeugalters', fontsize=14)\n",
    "axes[2].set_xlabel('Alter (Jahre)', fontsize=12)\n",
    "\n",
    "plt.tight_layout() # Passt die Plots an, damit sie sich nicht überlappen\n",
    "plt.show()"
   ],
   "id": "d08a49ec81167cfd"
  },
  {
   "metadata": {},
   "cell_type": "markdown",
   "source": "## 4.3 Analyse der kategorialen Features",
   "id": "917ee2d30688be44"
  },
  {
   "metadata": {},
   "cell_type": "code",
   "outputs": [],
   "execution_count": null,
   "source": [
    "# Zählung der Vorkommen für 'make', 'fuel', 'gear', 'offerType'\n",
    "print(\"\\nHäufigkeit der Fahrzeugtypen (Gear):\")\n",
    "display(df['gear'].value_counts())"
   ],
   "id": "d36df329f97a6f12"
  },
  {
   "metadata": {},
   "cell_type": "code",
   "outputs": [],
   "execution_count": null,
   "source": [
    "## Da ist ein Fehler hier - Das wird nicht angezeigt\n",
    "\n",
    "print(\"\\nHäufigste Kraftstoffart pro Jahr:\")\n",
    "fuel_year_counts = df.groupby(['year', 'fuel']).size().reset_index(name='count')\n",
    "# Finde die häufigste Kraftstoffart für jedes Jahr\n",
    "most_common_fuel_per_year = fuel_year_counts.loc[fuel_year_counts.groupby('year')['count'].idxmax()]\n",
    "display(most_common_fuel_per_year)\n",
    "\n",
    "print(\"\\nTop 10 der Hersteller (make) nach Anzahl der Fahrzeuge:\")\n",
    "display(df['make'].value_counts().head(10))"
   ],
   "id": "f30aa498402299f2"
  },
  {
   "metadata": {},
   "cell_type": "code",
   "outputs": [],
   "execution_count": null,
   "source": "print(\"\\n--- Explorative Datenanalyse (EDA) abgeschlossen ---\")",
   "id": "6021e13191a0e15b"
  },
  {
   "metadata": {},
   "cell_type": "code",
   "outputs": [],
   "execution_count": null,
   "source": "____________________________________________________________________________________________________________",
   "id": "4985803ca34e8ceb"
  },
  {
   "metadata": {},
   "cell_type": "markdown",
   "source": " ## 5.1 Top 10 der teuersten Autos auf dem deutschen Automarkt",
   "id": "e0646a1bc53f4439"
  },
  {
   "metadata": {},
   "cell_type": "code",
   "outputs": [],
   "execution_count": null,
   "source": [
    "\n",
    "# Dieser Abschnitt identifiziert und listet die 10 teuersten Fahrzeuge im Datensatz auf.\n",
    "# Dies gibt einen schnellen Überblick über die Preissuperlative und die damit verbundenen Marken und Modelle.\n",
    "\n",
    "print(\"\\n--- 5.1 Top 10 der teuersten Autos auf dem deutschen Automarkt ---\")\n",
    "\n",
    "# Wählen die relevanten Spalten aus und sortiere sie absteigend nach 'price'.\n",
    "# `head(10)` wählt die obersten 10 Einträge aus.\n",
    "teuerste_autos = df[['make', 'model', 'price', 'year', 'mileage', 'hp']].sort_values('price', ascending=False).head(10)\n",
    "\n",
    "print(\"Die 10 teuersten Autos im Datensatz:\")\n",
    "display(teuerste_autos)\n",
    "\n",
    "print(\"\\nErkenntnisse:\")\n",
    "print(\"- Hier sehen wir die Marken und Modelle, die die höchsten Preise erzielen.\")\n",
    "print(\"- Oftmals handelt es sich hierbei um Luxus- oder Sportwagen mit geringem Kilometerstand und hohem PS-Wert.\")\n",
    "print(\"- Die Jahre und Kilometerstände geben Aufschluss darüber, wie stark diese Fahrzeuge ihren Wert halten.\")"
   ],
   "id": "8c24dbda0a40cb6d"
  },
  {
   "metadata": {},
   "cell_type": "markdown",
   "source": "____________________________________________________________________________________________________________",
   "id": "d6a736b3e3c3e440"
  },
  {
   "metadata": {},
   "cell_type": "markdown",
   "source": "## 5.2 Gesamtzahl der Fahrzeuge je Hersteller",
   "id": "2c21bd2495f0c77b"
  },
  {
   "metadata": {},
   "cell_type": "code",
   "outputs": [],
   "execution_count": null,
   "source": [
    "\n",
    "# Diese Analyse gibt Aufschluss über die Marktpräsenz der verschiedenen Hersteller\n",
    "# im Datensatz. Hersteller mit einer hohen Anzahl an Einträgen sind in der Regel\n",
    "# die gängigsten Marken auf dem deutschen Gebrauchtwagenmarkt.\n",
    "\n",
    "print(\"\\n--- 5.2 Gesamtzahl der Fahrzeuge je Hersteller ---\")\n",
    "\n",
    "# Zähle die Vorkommen jedes Herstellers in der 'make'-Spalte.\n",
    "# `value_counts()` ist ideal dafür und sortiert die Ergebnisse automatisch absteigend.\n",
    "fahrzeuge_je_hersteller = df['make'].value_counts()\n",
    "\n",
    "print(\"Gesamtzahl der Fahrzeuge je Hersteller (Top 20):\")\n",
    "display(fahrzeuge_je_hersteller.head(20)) # Zeige die Top 20 für Übersichtlichkeit\n",
    "\n",
    "# Visualisierung der Top N Hersteller\n",
    "plt.figure(figsize=(15, 8))\n",
    "sns.barplot(x=fahrzeuge_je_hersteller.head(20).index, y=fahrzeuge_je_hersteller.head(20).values, palette='Blues_d')\n",
    "plt.title('Top 15 Hersteller nach Anzahl der Fahrzeuge im Datensatz', fontsize=16)\n",
    "plt.xlabel('Hersteller', fontsize=14)\n",
    "plt.ylabel('Anzahl der Fahrzeuge', fontsize=14)\n",
    "plt.xticks(rotation=45, ha='right')\n",
    "plt.tight_layout()\n",
    "plt.show()\n",
    "\n",
    "print(\"\\nErkenntnisse:\")\n",
    "print(\"- Dies zeigt, welche Marken im Datensatz am häufigsten vertreten sind, was oft die Beliebtheit am Markt widerspiegelt.\")\n",
    "print(\"- Hersteller wie Volkswagen, Opel und Ford dominieren typischerweise den deutschen Gebrauchtwagenmarkt.\")"
   ],
   "id": "e5ec89e22bd672b7"
  },
  {
   "metadata": {},
   "cell_type": "markdown",
   "source": "____________________________________________________________________________________________________________",
   "id": "eac87d89d4958423"
  },
  {
   "metadata": {},
   "cell_type": "markdown",
   "source": "## 5.3 Bestes Jahr für den Autoverkauf (nach Anzahl der gelisteten Fahrzeuge)",
   "id": "e95222933991e8d"
  },
  {
   "metadata": {},
   "cell_type": "code",
   "outputs": [],
   "execution_count": null,
   "source": [
    "\n",
    "# Diese Analyse identifiziert das Jahr, in dem die meisten Fahrzeuge gelistet wurden.\n",
    "# Dies könnte auf Trends im Gebrauchtwagenmarkt oder auf die Datenbeschaffung hinweisen.\n",
    "\n",
    "print(\"\\n--- 5.3 Bestes Jahr für den Autoverkauf (nach Anzahl der gelisteten Fahrzeuge) ---\")\n",
    "\n",
    "# Gruppiere nach 'year' und zähle die Anzahl der 'make' Einträge pro Jahr.\n",
    "# Sortiere dann absteigend, um das Jahr mit den meisten Einträgen zu finden.\n",
    "fahrzeuge_pro_jahr = df.groupby('year')['make'].count().sort_values(ascending=False)\n",
    "\n",
    "print(\"Anzahl der gelisteten Fahrzeuge pro Baujahr (absteigend sortiert):\")\n",
    "display(fahrzeuge_pro_jahr)\n",
    "\n",
    "# Visualisierung\n",
    "plt.figure(figsize=(12, 7))\n",
    "sns.barplot(x=fahrzeuge_pro_jahr.index, y=fahrzeuge_pro_jahr.values, palette='Greens_d')\n",
    "plt.title('Anzahl der gelisteten Fahrzeuge pro Baujahr', fontsize=16)\n",
    "plt.xlabel('Baujahr', fontsize=14)\n",
    "plt.ylabel('Anzahl der Fahrzeuge', fontsize=14)\n",
    "plt.xticks(rotation=45)\n",
    "plt.tight_layout()\n",
    "plt.show()\n",
    "\n",
    "print(\"\\nErkenntnisse:\")\n",
    "print(\"- Das Jahr mit der höchsten Anzahl an gelisteten Fahrzeugen kann Aufschluss über die Aktivität auf dem Gebrauchtwagenmarkt geben.\")\n",
    "print(\"- Oft sind dies Jahre, in denen viele Neuwagen verkauft wurden und diese dann als Gebrauchtwagen auf den Markt kamen.\")"
   ],
   "id": "fff559e5e30401bc"
  },
  {
   "metadata": {},
   "cell_type": "markdown",
   "source": "____________________________________________________________________________________________________________",
   "id": "cd1ce37da5995e37"
  },
  {
   "metadata": {},
   "cell_type": "markdown",
   "source": "## 5.4 Entwicklung der Preise über die Jahre",
   "id": "fd531d75b00f72e5"
  },
  {
   "metadata": {},
   "cell_type": "code",
   "outputs": [],
   "execution_count": null,
   "source": [
    "\n",
    "# Dieser Abschnitt untersucht, wie sich der durchschnittliche Fahrzeugpreis über die Jahre entwickelt hat.\n",
    "# Dies kann sowohl den durchschnittlichen Neuwagenpreis des jeweiligen Jahres als auch den Wertverlust\n",
    "# der in diesem Jahr produzierten Fahrzeuge reflektieren.\n",
    "\n",
    "print(\"\\n--- 5.4 Entwicklung der Preise über die Jahre ---\")\n",
    "\n",
    "# Gruppiere nach 'year' und berechne den Durchschnittspreis für jedes Jahr.\n",
    "# Sortiere nach Index (Jahr), um einen chronologischen Trend zu sehen.\n",
    "durchschnittspreis_pro_jahr = df.groupby('year')['price'].mean().sort_index()\n",
    "\n",
    "print(\"Durchschnittlicher Preis pro Baujahr:\")\n",
    "display(durchschnittspreis_pro_jahr)\n",
    "\n",
    "# Visualisierung des Trends\n",
    "plt.figure(figsize=(12, 7))\n",
    "sns.lineplot(x=durchschnittspreis_pro_jahr.index, y=durchschnittspreis_pro_jahr.values, marker='o', color='darkblue')\n",
    "plt.title('Durchschnittlicher Preis pro Baujahr (Trend)', fontsize=16)\n",
    "plt.xlabel('Baujahr', fontsize=14)\n",
    "plt.ylabel('Durchschnittlicher Preis (€)', fontsize=14)\n",
    "plt.grid(True, linestyle='--', alpha=0.7)\n",
    "plt.xticks(rotation=45)\n",
    "plt.tight_layout()\n",
    "plt.show()\n",
    "\n",
    "print(\"\\nErkenntnisse:\")\n",
    "print(\"- Ein klarer Aufwärtstrend bei den durchschnittlichen Preisen jüngerer Baujahre ist zu erwarten, da neuere Fahrzeuge teurer sind und weniger Wertverlust erfahren haben.\")\n",
    "print(\"- Interessant ist, ob es Jahre gibt, in denen der Preisanstieg besonders steil oder flach ist.\")"
   ],
   "id": "f02986b1be1ad705"
  },
  {
   "metadata": {},
   "cell_type": "markdown",
   "source": "____________________________________________________________________________________________________________",
   "id": "896401dfc941db14"
  },
  {
   "metadata": {},
   "cell_type": "markdown",
   "source": "## 5.5 Kosten Automatikautos mehr als Schaltgetriebe? (Statistischer Test)",
   "id": "54c1df1fa0c4ae19"
  },
  {
   "metadata": {},
   "cell_type": "code",
   "outputs": [],
   "execution_count": null,
   "source": [
    "\n",
    "# Diese Analyse verwendet einen T-Test, um zu prüfen, ob ein signifikanter Preisunterschied\n",
    "# zwischen Fahrzeugen mit Automatikgetriebe und Schaltgetriebe besteht.\n",
    "\n",
    "print(\"\\n--- 5.5 Kosten Automatikautos mehr als Schaltgetriebe? ---\")\n",
    "\n",
    "# Trenne die Preise basierend auf dem Getriebetyp\n",
    "automatic_prices = df[df['gear'] == 'Automatic']['price']\n",
    "manual_prices = df[df['gear'] == 'Manual']['price']\n",
    "semi_automatic_prices = df[df['gear'] == 'Semi-automatic']['price'] # Falls vorhanden\n",
    "\n",
    "# Für den T-Test vergleichen wir in der Regel nur zwei Gruppen.\n",
    "# Hier vergleichen wir Automatik vs. Schaltgetriebe.\n",
    "# `equal_var=False` wird verwendet, da wir nicht annehmen, dass die Varianzen gleich sind (Welch's T-Test).\n",
    "# `nan_policy='omit'` stellt sicher, dass fehlende Werte ignoriert werden.\n",
    "t_stat_auto_manual, p_val_auto_manual = ttest_ind(automatic_prices, manual_prices, equal_var=False, nan_policy='omit')\n",
    "\n",
    "print(f\"Durchschnittspreis Automatik: €{automatic_prices.mean():,.2f}\")\n",
    "print(f\"Durchschnittspreis Schaltgetriebe: €{manual_prices.mean():,.2f}\")\n",
    "print(f\"T-Statistik (Automatik vs. Schaltgetriebe): {t_stat_auto_manual:.2f}\")\n",
    "print(f\"p-Wert (Automatik vs. Schaltgetriebe): {p_val_auto_manual:.3f}\")\n",
    "\n",
    "# ANOVA für mehr als zwei Gruppen (z.B. Automatik, Manuell, Semi-Automatik)\n",
    "# Da du 'Semi-automatic' hast, ist ANOVA hier noch aussagekräftiger.\n",
    "if not semi_automatic_prices.empty: # Prüfen, ob Semi-automatic Daten existieren\n",
    "    f_stat_anova, p_val_anova = f_oneway(automatic_prices, manual_prices, semi_automatic_prices, nan_policy='omit')\n",
    "    print(f\"\\nANOVA (Alle Getriebearten):\")\n",
    "    print(f\"F-Wert: {f_stat_anova:.2f}, p-Wert: {p_val_anova:.3f}\")\n",
    "else:\n",
    "    print(\"\\nNicht genügend Daten für 'Semi-automatic', um ANOVA mit allen Getriebearten durchzuführen.\")\n",
    "\n",
    "\n",
    "# Visualisierung der Preisverteilung nach Getriebeart\n",
    "plt.figure(figsize=(10, 7))\n",
    "sns.boxplot(x='gear', y='price', data=df, palette='pastel')\n",
    "plt.title('Preisverteilung nach Getriebeart', fontsize=16)\n",
    "plt.xlabel('Getriebeart', fontsize=14)\n",
    "plt.ylabel('Preis (€)', fontsize=14)\n",
    "plt.tight_layout()\n",
    "plt.show()\n",
    "\n",
    "\n",
    "print(\"\\nErkenntnisse:\")\n",
    "if p_val_auto_manual < 0.05:\n",
    "    print(f\"- Der p-Wert ({p_val_auto_manual:.3f}) ist kleiner als 0.05, was darauf hindeutet, dass ein statistisch signifikanter Unterschied zwischen den Durchschnittspreisen von Automatik- und Schaltgetriebe-Fahrzeugen besteht.\")\n",
    "    print(f\"- Automatikfahrzeuge sind im Durchschnitt deutlich teurer (€{automatic_prices.mean():,.2f}) als Schaltgetriebe-Fahrzeuge (€{manual_prices.mean():,.2f}).\")\n",
    "else:\n",
    "    print(f\"- Der p-Wert ({p_val_auto_manual:.3f}) ist nicht kleiner als 0.05, was darauf hindeutet, dass kein statistisch signifikanter Unterschied zwischen den Durchschnittspreisen von Automatik- und Schaltgetriebe-Fahrzeugen besteht.\")\n",
    "print(\"- Der Boxplot visualisiert diesen Unterschied in den Preisverteilungen.\")"
   ],
   "id": "4092b85b733288d"
  },
  {
   "metadata": {},
   "cell_type": "markdown",
   "source": "# ## 6. Vertiefende Korrelationsanalyse",
   "id": "14ef8eb5f4551aaf"
  },
  {
   "metadata": {},
   "cell_type": "code",
   "outputs": [],
   "execution_count": null,
   "source": [
    "# Dieser Abschnitt bietet eine tiefere Einsicht in die Beziehungen zwischen numerischen Merkmalen,\n",
    "# indem verschiedene Korrelationskoeffizienten (Pearson, Spearman, Kendall) berechnet und visualisiert werden.\n",
    "# Die Wahl des Korrelationskoeffizienten hängt von der Art der Beziehung ab,\n",
    "# die man untersuchen möchte, und von den Annahmen über die Daten.\n",
    "\n",
    "print(\"\\n--- 6. Vertiefende Korrelationsanalyse ---\")\n",
    "\n",
    "# Definiere die numerischen Spalten, die in die Korrelationsanalyse einbezogen werden sollen.\n",
    "# Es ist sinnvoll, 'year' durch 'age' zu ersetzen, da 'age' direkt aus 'year' abgeleitet ist\n",
    "# und oft die relevantere Information für den Preis darstellt (je älter, desto günstiger).\n",
    "# 'price_per_mileage' kann auch hinzugefügt werden, wenn es als relevantes Feature betrachtet wird.\n",
    "numerische_spalten_korr = ['price', 'mileage', 'hp', 'age', 'price_per_mileage'] # Füge hier alle relevanten numerischen Features ein"
   ],
   "id": "73741920cf439395"
  },
  {
   "metadata": {},
   "cell_type": "markdown",
   "source": "## --- 6.1 Pearson-Korrelation (Lineare Beziehung) ---",
   "id": "e03b27e761cc3653"
  },
  {
   "metadata": {},
   "cell_type": "code",
   "outputs": [],
   "execution_count": null,
   "source": [
    "# Pearson misst die Stärke und Richtung der linearen Beziehung zwischen zwei Variablen.\n",
    "# Geeignet für metrische, normalverteilte Daten ohne extreme Ausreißer.\n",
    "print(\"\\n6.1 Pearson-Korrelationsmatrix (Lineare Beziehung):\")\n",
    "korrelationsmatrix_pearson = df[numerische_spalten_korr].corr(method='pearson')\n",
    "display(korrelationsmatrix_pearson)\n",
    "\n",
    "plt.figure(figsize=(10, 8))\n",
    "sns.heatmap(korrelationsmatrix_pearson, annot=True, cmap='coolwarm', fmt=\".2f\", linewidths=.5, annot_kws={\"size\": 10})\n",
    "plt.title('Pearson-Korrelationsmatrix', fontsize=16)\n",
    "plt.show()\n",
    "\n",
    "print(\"\\nErkenntnisse Pearson-Korrelation:\")\n",
    "print(\"- Werte nahe +1 oder -1 zeigen starke lineare Beziehungen an. Ein Wert von 0 deutet auf keine lineare Beziehung hin.\")\n",
    "print(\"- Eine hohe positive Korrelation zwischen 'price' und 'hp' ist zu erwarten (mehr PS, höherer Preis).\")\n",
    "print(\"- Eine negative Korrelation zwischen 'price' und 'mileage'/'age' ist ebenfalls zu erwarten (mehr Kilometer/Alter, niedrigerer Preis).\")\n",
    "print(\"- Beachte die starke negative Korrelation zwischen 'age' und 'year' (-1.00), da 'age' direkt aus 'year' berechnet wird.\")\n"
   ],
   "id": "564188b315073ebc"
  },
  {
   "metadata": {},
   "cell_type": "markdown",
   "source": "## --- 6.2 Spearman-Korrelation (Monotone Beziehung) ---",
   "id": "1857237e6309bc7e"
  },
  {
   "metadata": {},
   "cell_type": "code",
   "outputs": [],
   "execution_count": null,
   "source": [
    "# Spearman misst die Stärke und Richtung der monotonen Beziehung zwischen zwei Variablen.\n",
    "# Sie basiert auf den Rängen der Daten und ist robuster gegenüber Ausreißern und nicht-linearen,\n",
    "# aber monotonen Beziehungen.\n",
    "print(\"\\n6.2 Spearman-Korrelationsmatrix (Monotone Beziehung):\")\n",
    "korrelationsmatrix_spearman = df[numerische_spalten_korr].corr(method='spearman')\n",
    "display(korrelationsmatrix_spearman)\n",
    "\n",
    "plt.figure(figsize=(10, 8))\n",
    "sns.heatmap(korrelationsmatrix_spearman, annot=True, cmap='viridis', fmt=\".2f\", linewidths=.5, annot_kws={\"size\": 10})\n",
    "plt.title('Spearman-Korrelationsmatrix', fontsize=16)\n",
    "plt.show()\n",
    "\n",
    "print(\"\\nErkenntnisse Spearman-Korrelation:\")\n",
    "print(\"- Wenn der Spearman-Wert sich vom Pearson-Wert unterscheidet, könnte dies auf nicht-lineare, aber immer noch stetige Beziehungen hindeuten.\")\n",
    "print(\"- Sie ist weniger empfindlich gegenüber Ausreißern und kann auch bei ordinalen Skalen sinnvoll sein.\")\n",
    "print(\"- Ein hoher Spearman-Koeffizient bedeutet, dass die Ränge der Variablen dazu tendieren, in die gleiche Richtung zu gehen.\")"
   ],
   "id": "5f2df8e9bf7c4234"
  },
  {
   "metadata": {},
   "cell_type": "markdown",
   "source": "## --- 6.3 Kendall-Korrelation (Rangkorrelation) ---",
   "id": "3ed95db8c61c6a64"
  },
  {
   "metadata": {},
   "cell_type": "code",
   "outputs": [],
   "execution_count": null,
   "source": [
    "# Kendall's Tau ist eine weitere nicht-parametrische Rangkorrelationsmaßnahme,\n",
    "# die die Ähnlichkeit der Reihenfolge von Datenpaaren misst (konkordante vs. diskordante Paare).\n",
    "# Sie ist oft kleiner als die Spearman-Korrelation, aber interpretativ ähnlich.\n",
    "print(\"\\n6.3 Kendall-Korrelationsmatrix (Rangkorrelation):\")\n",
    "korrelationsmatrix_kendall = df[numerische_spalten_korr].corr(method='kendall')\n",
    "display(korrelationsmatrix_kendall)\n",
    "\n",
    "plt.figure(figsize=(10, 8))\n",
    "sns.heatmap(korrelationsmatrix_kendall, annot=True, cmap='plasma', fmt=\".2f\", linewidths=.5, annot_kws={\"size\": 10})\n",
    "plt.title(\"Kendall's Tau Korrelationsmatrix\", fontsize=16)\n",
    "plt.show()\n",
    "\n",
    "print(\"\\nErkenntnisse Kendall-Korrelation:\")\n",
    "print(\"- Kendall's Tau ist oft kleiner als die Spearman-Korrelation, aber sie interpretieren ähnliche Informationen über die Rangordnung.\")\n",
    "print(\"- Nützlich, wenn die Daten nicht normalverteilt sind oder Ausreißer vorhanden sind.\")\n",
    "print(\"- Sie misst die Wahrscheinlichkeit, dass zwei Paare in der gleichen Reihenfolge sind (konkordant) minus der Wahrscheinlichkeit, dass sie in unterschiedlicher Reihenfolge sind (diskordant).\")\n",
    "\n",
    "print(\"\\n--- Vertiefende Korrelationsanalyse abgeschlossen ---\")\n",
    "\n",
    "print(\"\\n--- Explorative Datenanalyse (EDA) abgeschlossen ---\")"
   ],
   "id": "92af214d4a0b7b74"
  },
  {
   "metadata": {},
   "cell_type": "code",
   "outputs": [],
   "execution_count": null,
   "source": "print(\"\\n--- Explorative Datenanalyse (EDA) abgeschlossen ---\")",
   "id": "433974a36767d2ba"
  }
 ],
 "metadata": {},
 "nbformat": 4,
 "nbformat_minor": 5
}
