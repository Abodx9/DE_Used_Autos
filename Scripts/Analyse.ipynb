{
 "cells": [
  {
   "cell_type": "markdown",
   "id": "f4786f60",
   "metadata": {},
   "source": [
    "## Import needed Libs"
   ]
  },
  {
   "cell_type": "code",
   "id": "8dbfe8c3",
   "metadata": {
    "ExecuteTime": {
     "end_time": "2025-06-05T09:23:27.538268Z",
     "start_time": "2025-06-05T09:23:27.524269Z"
    }
   },
   "source": [
    "import pandas as pd\n",
    "import numpy as np\n",
    "from scipy.stats import ttest_ind"
   ],
   "outputs": [],
   "execution_count": 3
  },
  {
   "cell_type": "markdown",
   "id": "c0f7325d",
   "metadata": {},
   "source": [
    "## Laden und mit den Daten spielen"
   ]
  },
  {
   "cell_type": "code",
   "id": "9bf62372",
   "metadata": {
    "ExecuteTime": {
     "end_time": "2025-06-05T09:23:27.723261Z",
     "start_time": "2025-06-05T09:23:27.602263Z"
    }
   },
   "source": [
    "df = pd.read_csv('../Daten/autoscout24-germany-dataset.csv')\n",
    "\n",
    "print(df.shape)\n",
    "\n",
    "df.head(7)"
   ],
   "outputs": [
    {
     "name": "stdout",
     "output_type": "stream",
     "text": [
      "(46405, 9)\n"
     ]
    },
    {
     "data": {
      "text/plain": [
       "   mileage        make   model               fuel       gear offerType  price  \\\n",
       "0   235000         BMW     316             Diesel     Manual      Used   6800   \n",
       "1    92800  Volkswagen    Golf           Gasoline     Manual      Used   6877   \n",
       "2   149300        SEAT    Exeo           Gasoline     Manual      Used   6900   \n",
       "3    96200     Renault  Megane           Gasoline     Manual      Used   6950   \n",
       "4   156000     Peugeot     308           Gasoline     Manual      Used   6950   \n",
       "5   147000      Toyota   Auris  Electric/Gasoline  Automatic      Used   6950   \n",
       "6    91894     Renault  Scenic             Diesel     Manual      Used   6970   \n",
       "\n",
       "      hp  year  \n",
       "0  116.0  2011  \n",
       "1  122.0  2011  \n",
       "2  160.0  2011  \n",
       "3  110.0  2011  \n",
       "4  156.0  2011  \n",
       "5   99.0  2011  \n",
       "6  131.0  2011  "
      ],
      "text/html": [
       "<div>\n",
       "<style scoped>\n",
       "    .dataframe tbody tr th:only-of-type {\n",
       "        vertical-align: middle;\n",
       "    }\n",
       "\n",
       "    .dataframe tbody tr th {\n",
       "        vertical-align: top;\n",
       "    }\n",
       "\n",
       "    .dataframe thead th {\n",
       "        text-align: right;\n",
       "    }\n",
       "</style>\n",
       "<table border=\"1\" class=\"dataframe\">\n",
       "  <thead>\n",
       "    <tr style=\"text-align: right;\">\n",
       "      <th></th>\n",
       "      <th>mileage</th>\n",
       "      <th>make</th>\n",
       "      <th>model</th>\n",
       "      <th>fuel</th>\n",
       "      <th>gear</th>\n",
       "      <th>offerType</th>\n",
       "      <th>price</th>\n",
       "      <th>hp</th>\n",
       "      <th>year</th>\n",
       "    </tr>\n",
       "  </thead>\n",
       "  <tbody>\n",
       "    <tr>\n",
       "      <th>0</th>\n",
       "      <td>235000</td>\n",
       "      <td>BMW</td>\n",
       "      <td>316</td>\n",
       "      <td>Diesel</td>\n",
       "      <td>Manual</td>\n",
       "      <td>Used</td>\n",
       "      <td>6800</td>\n",
       "      <td>116.0</td>\n",
       "      <td>2011</td>\n",
       "    </tr>\n",
       "    <tr>\n",
       "      <th>1</th>\n",
       "      <td>92800</td>\n",
       "      <td>Volkswagen</td>\n",
       "      <td>Golf</td>\n",
       "      <td>Gasoline</td>\n",
       "      <td>Manual</td>\n",
       "      <td>Used</td>\n",
       "      <td>6877</td>\n",
       "      <td>122.0</td>\n",
       "      <td>2011</td>\n",
       "    </tr>\n",
       "    <tr>\n",
       "      <th>2</th>\n",
       "      <td>149300</td>\n",
       "      <td>SEAT</td>\n",
       "      <td>Exeo</td>\n",
       "      <td>Gasoline</td>\n",
       "      <td>Manual</td>\n",
       "      <td>Used</td>\n",
       "      <td>6900</td>\n",
       "      <td>160.0</td>\n",
       "      <td>2011</td>\n",
       "    </tr>\n",
       "    <tr>\n",
       "      <th>3</th>\n",
       "      <td>96200</td>\n",
       "      <td>Renault</td>\n",
       "      <td>Megane</td>\n",
       "      <td>Gasoline</td>\n",
       "      <td>Manual</td>\n",
       "      <td>Used</td>\n",
       "      <td>6950</td>\n",
       "      <td>110.0</td>\n",
       "      <td>2011</td>\n",
       "    </tr>\n",
       "    <tr>\n",
       "      <th>4</th>\n",
       "      <td>156000</td>\n",
       "      <td>Peugeot</td>\n",
       "      <td>308</td>\n",
       "      <td>Gasoline</td>\n",
       "      <td>Manual</td>\n",
       "      <td>Used</td>\n",
       "      <td>6950</td>\n",
       "      <td>156.0</td>\n",
       "      <td>2011</td>\n",
       "    </tr>\n",
       "    <tr>\n",
       "      <th>5</th>\n",
       "      <td>147000</td>\n",
       "      <td>Toyota</td>\n",
       "      <td>Auris</td>\n",
       "      <td>Electric/Gasoline</td>\n",
       "      <td>Automatic</td>\n",
       "      <td>Used</td>\n",
       "      <td>6950</td>\n",
       "      <td>99.0</td>\n",
       "      <td>2011</td>\n",
       "    </tr>\n",
       "    <tr>\n",
       "      <th>6</th>\n",
       "      <td>91894</td>\n",
       "      <td>Renault</td>\n",
       "      <td>Scenic</td>\n",
       "      <td>Diesel</td>\n",
       "      <td>Manual</td>\n",
       "      <td>Used</td>\n",
       "      <td>6970</td>\n",
       "      <td>131.0</td>\n",
       "      <td>2011</td>\n",
       "    </tr>\n",
       "  </tbody>\n",
       "</table>\n",
       "</div>"
      ]
     },
     "execution_count": 4,
     "metadata": {},
     "output_type": "execute_result"
    }
   ],
   "execution_count": 4
  },
  {
   "cell_type": "markdown",
   "id": "c1af61b7",
   "metadata": {},
   "source": [
    "## Zählen na und doppelten Daten (um sie später zu entfernen)"
   ]
  },
  {
   "cell_type": "code",
   "id": "0b77396b",
   "metadata": {
    "ExecuteTime": {
     "end_time": "2025-06-05T09:23:27.785501Z",
     "start_time": "2025-06-05T09:23:27.727269Z"
    }
   },
   "source": [
    "print(f\"There is: {df.isnull().sum().sum()} missing values in the dataset\")\n",
    "\n",
    "print(f\"There is: {df.duplicated().sum()} duplicates in the dataset\")"
   ],
   "outputs": [
    {
     "name": "stdout",
     "output_type": "stream",
     "text": [
      "There is: 354 missing values in the dataset\n",
      "There is: 2140 duplicates in the dataset\n"
     ]
    }
   ],
   "execution_count": 5
  },
  {
   "cell_type": "markdown",
   "id": "c23df03a",
   "metadata": {},
   "source": [
    "# Datenbereinigung"
   ]
  },
  {
   "cell_type": "code",
   "id": "1aa753c1",
   "metadata": {
    "ExecuteTime": {
     "end_time": "2025-06-05T09:23:27.846246Z",
     "start_time": "2025-06-05T09:23:27.788623Z"
    }
   },
   "source": [
    "# Entfernen von doppelten und fehlenden Daten\n",
    "\n",
    "df.drop_duplicates(inplace=True)\n",
    "df.dropna(inplace=True)"
   ],
   "outputs": [],
   "execution_count": 6
  },
  {
   "cell_type": "markdown",
   "id": "2f139c0e",
   "metadata": {},
   "source": [
    "## Daten nach Bereinigung"
   ]
  },
  {
   "cell_type": "code",
   "id": "15873541",
   "metadata": {
    "ExecuteTime": {
     "end_time": "2025-06-05T09:23:27.877058Z",
     "start_time": "2025-06-05T09:23:27.850251Z"
    }
   },
   "source": [
    "print(df.shape)\n",
    "\n",
    "df.info"
   ],
   "outputs": [
    {
     "name": "stdout",
     "output_type": "stream",
     "text": [
      "(43947, 9)\n"
     ]
    },
    {
     "data": {
      "text/plain": [
       "<bound method DataFrame.info of        mileage        make   model               fuel    gear       offerType  \\\n",
       "0       235000         BMW     316             Diesel  Manual            Used   \n",
       "1        92800  Volkswagen    Golf           Gasoline  Manual            Used   \n",
       "2       149300        SEAT    Exeo           Gasoline  Manual            Used   \n",
       "3        96200     Renault  Megane           Gasoline  Manual            Used   \n",
       "4       156000     Peugeot     308           Gasoline  Manual            Used   \n",
       "...        ...         ...     ...                ...     ...             ...   \n",
       "46394       10     Citroen      C1           Gasoline  Manual  Pre-registered   \n",
       "46396       99        Fiat     500  Electric/Gasoline  Manual  Pre-registered   \n",
       "46397      550        Fiat     500  Electric/Gasoline  Manual   Demonstration   \n",
       "46398      837        Fiat   Panda  Electric/Gasoline  Manual   Demonstration   \n",
       "46399     1500       Skoda   Fabia           Gasoline  Manual   Demonstration   \n",
       "\n",
       "       price     hp  year  \n",
       "0       6800  116.0  2011  \n",
       "1       6877  122.0  2011  \n",
       "2       6900  160.0  2011  \n",
       "3       6950  110.0  2011  \n",
       "4       6950  156.0  2011  \n",
       "...      ...    ...   ...  \n",
       "46394  12340   72.0  2021  \n",
       "46396  12490   71.0  2021  \n",
       "46397  12805   69.0  2021  \n",
       "46398  12805   69.0  2021  \n",
       "46399  12980   60.0  2021  \n",
       "\n",
       "[43947 rows x 9 columns]>"
      ]
     },
     "execution_count": 7,
     "metadata": {},
     "output_type": "execute_result"
    }
   ],
   "execution_count": 7
  },
  {
   "cell_type": "markdown",
   "id": "4e520598",
   "metadata": {},
   "source": [
    "## Die Fahrzeugtypen (Gear)"
   ]
  },
  {
   "cell_type": "code",
   "id": "aea1bb4f",
   "metadata": {
    "ExecuteTime": {
     "end_time": "2025-06-05T09:23:27.907878Z",
     "start_time": "2025-06-05T09:23:27.882159Z"
    }
   },
   "source": [
    "gear = df['gear'].value_counts();\n",
    "gear.head()"
   ],
   "outputs": [
    {
     "data": {
      "text/plain": [
       "gear\n",
       "Manual            28752\n",
       "Automatic         15141\n",
       "Semi-automatic       54\n",
       "Name: count, dtype: int64"
      ]
     },
     "execution_count": 8,
     "metadata": {},
     "output_type": "execute_result"
    }
   ],
   "execution_count": 8
  },
  {
   "cell_type": "markdown",
   "id": "3abe8d8b",
   "metadata": {},
   "source": [
    "## Teuersten Autos auf dem deutschen Automarkt"
   ]
  },
  {
   "cell_type": "code",
   "id": "ea3604eb",
   "metadata": {
    "ExecuteTime": {
     "end_time": "2025-06-05T09:23:27.954056Z",
     "start_time": "2025-06-05T09:23:27.913176Z"
    }
   },
   "source": [
    "teuer_autos = df[['make', 'model', 'price']].sort_values('price', ascending=False).head(10)\n",
    "teuer_autos"
   ],
   "outputs": [
    {
     "data": {
      "text/plain": [
       "                make      model    price\n",
       "21675        Ferrari        F12  1199900\n",
       "11754  Mercedes-Benz      S 650   717078\n",
       "11753        Maybach    Pullman   717078\n",
       "16429        Maybach    Pullman   499800\n",
       "29257  Mercedes-Benz        SLS   465000\n",
       "7384     Lamborghini  Aventador   449900\n",
       "18419        Ferrari        812   439900\n",
       "7383     Lamborghini  Aventador   439900\n",
       "2170     Lamborghini  Aventador   399999\n",
       "42132        Porsche        991   399911"
      ],
      "text/html": [
       "<div>\n",
       "<style scoped>\n",
       "    .dataframe tbody tr th:only-of-type {\n",
       "        vertical-align: middle;\n",
       "    }\n",
       "\n",
       "    .dataframe tbody tr th {\n",
       "        vertical-align: top;\n",
       "    }\n",
       "\n",
       "    .dataframe thead th {\n",
       "        text-align: right;\n",
       "    }\n",
       "</style>\n",
       "<table border=\"1\" class=\"dataframe\">\n",
       "  <thead>\n",
       "    <tr style=\"text-align: right;\">\n",
       "      <th></th>\n",
       "      <th>make</th>\n",
       "      <th>model</th>\n",
       "      <th>price</th>\n",
       "    </tr>\n",
       "  </thead>\n",
       "  <tbody>\n",
       "    <tr>\n",
       "      <th>21675</th>\n",
       "      <td>Ferrari</td>\n",
       "      <td>F12</td>\n",
       "      <td>1199900</td>\n",
       "    </tr>\n",
       "    <tr>\n",
       "      <th>11754</th>\n",
       "      <td>Mercedes-Benz</td>\n",
       "      <td>S 650</td>\n",
       "      <td>717078</td>\n",
       "    </tr>\n",
       "    <tr>\n",
       "      <th>11753</th>\n",
       "      <td>Maybach</td>\n",
       "      <td>Pullman</td>\n",
       "      <td>717078</td>\n",
       "    </tr>\n",
       "    <tr>\n",
       "      <th>16429</th>\n",
       "      <td>Maybach</td>\n",
       "      <td>Pullman</td>\n",
       "      <td>499800</td>\n",
       "    </tr>\n",
       "    <tr>\n",
       "      <th>29257</th>\n",
       "      <td>Mercedes-Benz</td>\n",
       "      <td>SLS</td>\n",
       "      <td>465000</td>\n",
       "    </tr>\n",
       "    <tr>\n",
       "      <th>7384</th>\n",
       "      <td>Lamborghini</td>\n",
       "      <td>Aventador</td>\n",
       "      <td>449900</td>\n",
       "    </tr>\n",
       "    <tr>\n",
       "      <th>18419</th>\n",
       "      <td>Ferrari</td>\n",
       "      <td>812</td>\n",
       "      <td>439900</td>\n",
       "    </tr>\n",
       "    <tr>\n",
       "      <th>7383</th>\n",
       "      <td>Lamborghini</td>\n",
       "      <td>Aventador</td>\n",
       "      <td>439900</td>\n",
       "    </tr>\n",
       "    <tr>\n",
       "      <th>2170</th>\n",
       "      <td>Lamborghini</td>\n",
       "      <td>Aventador</td>\n",
       "      <td>399999</td>\n",
       "    </tr>\n",
       "    <tr>\n",
       "      <th>42132</th>\n",
       "      <td>Porsche</td>\n",
       "      <td>991</td>\n",
       "      <td>399911</td>\n",
       "    </tr>\n",
       "  </tbody>\n",
       "</table>\n",
       "</div>"
      ]
     },
     "execution_count": 9,
     "metadata": {},
     "output_type": "execute_result"
    }
   ],
   "execution_count": 9
  },
  {
   "cell_type": "markdown",
   "id": "cf671560",
   "metadata": {},
   "source": [
    "## Gesamtzahl der Fahrzeuge je Hersteller"
   ]
  },
  {
   "cell_type": "code",
   "id": "63c2a532",
   "metadata": {
    "ExecuteTime": {
     "end_time": "2025-06-05T09:23:28.029900Z",
     "start_time": "2025-06-05T09:23:28.008884Z"
    }
   },
   "source": [
    "df['make'].value_counts()"
   ],
   "outputs": [
    {
     "data": {
      "text/plain": [
       "make\n",
       "Volkswagen    6680\n",
       "Opel          4576\n",
       "Ford          4245\n",
       "Skoda         2737\n",
       "Renault       2659\n",
       "              ... \n",
       "Isuzu            1\n",
       "Others           1\n",
       "Zhidou           1\n",
       "Brilliance       1\n",
       "Alpine           1\n",
       "Name: count, Length: 71, dtype: int64"
      ]
     },
     "execution_count": 10,
     "metadata": {},
     "output_type": "execute_result"
    }
   ],
   "execution_count": 10
  },
  {
   "cell_type": "markdown",
   "id": "35e992b4",
   "metadata": {},
   "source": [
    "## Wirkt sich der Preis auf die Nutzung des Autos aus?\n",
    "\n",
    "* Die Korrelation ist negativ und beträgt etwa -0.31.\n",
    "\n",
    "* Das heißt: Je höher die Laufleistung, desto niedriger ist tendenziell der Preis (und umgekehrt).\n",
    "\n",
    "* Der Zusammenhang ist moderat (nicht sehr stark, aber auch nicht vernachlässigbar)."
   ]
  },
  {
   "cell_type": "code",
   "id": "04c0c9c0",
   "metadata": {
    "ExecuteTime": {
     "end_time": "2025-06-05T09:23:28.182090Z",
     "start_time": "2025-06-05T09:23:28.168080Z"
    }
   },
   "source": [
    "print(\"\\nBasis-Korrelationsanalyse:\")\n",
    "\n",
    "korr_Ma = df[['price', 'mileage']].corr()\n",
    "print(korr_Ma)"
   ],
   "outputs": [
    {
     "name": "stdout",
     "output_type": "stream",
     "text": [
      "\n",
      "Basis-Korrelationsanalyse:\n",
      "            price   mileage\n",
      "price    1.000000 -0.305598\n",
      "mileage -0.305598  1.000000\n"
     ]
    }
   ],
   "execution_count": 11
  },
  {
   "cell_type": "markdown",
   "id": "ffe98954",
   "metadata": {},
   "source": [
    "##  bestes Jahr für den Autoverkauf"
   ]
  },
  {
   "cell_type": "code",
   "id": "3470ece5",
   "metadata": {
    "ExecuteTime": {
     "end_time": "2025-06-05T09:23:28.290938Z",
     "start_time": "2025-06-05T09:23:28.263958Z"
    }
   },
   "source": [
    "jahr_za = df.groupby('year')['make'].count()\n",
    "\n",
    "sort = jahr_za.sort_values(ascending=False)\n",
    "print(sort)\n"
   ],
   "outputs": [
    {
     "name": "stdout",
     "output_type": "stream",
     "text": [
      "year\n",
      "2013    4096\n",
      "2016    4087\n",
      "2020    4087\n",
      "2018    4078\n",
      "2017    4072\n",
      "2012    4063\n",
      "2015    4054\n",
      "2019    4031\n",
      "2014    4021\n",
      "2011    3984\n",
      "2021    3374\n",
      "Name: make, dtype: int64\n"
     ]
    }
   ],
   "execution_count": 12
  },
  {
   "cell_type": "markdown",
   "id": "d08ccaf4",
   "metadata": {},
   "source": [
    "## Beliebtheit der Kraftstoffart im Laufe der Zeit"
   ]
  },
  {
   "cell_type": "code",
   "id": "160b34fe",
   "metadata": {
    "ExecuteTime": {
     "end_time": "2025-06-05T09:23:28.367948Z",
     "start_time": "2025-06-05T09:23:28.336941Z"
    }
   },
   "source": [
    "print(\"Häufigste Kraftstoffart pro Jahr:\")\n",
    "fuel_year = df.groupby(['year', 'fuel']).size().reset_index(name='count')\n",
    "beliebt_fuel = fuel_year.loc[fuel_year.groupby('year')['count'].idxmax()]\n",
    "print(beliebt_fuel)"
   ],
   "outputs": [
    {
     "name": "stdout",
     "output_type": "stream",
     "text": [
      "Häufigste Kraftstoffart pro Jahr:\n",
      "    year      fuel  count\n",
      "6   2011  Gasoline   2564\n",
      "15  2012  Gasoline   2530\n",
      "24  2013  Gasoline   2541\n",
      "33  2014  Gasoline   2471\n",
      "42  2015  Gasoline   2424\n",
      "51  2016  Gasoline   2422\n",
      "60  2017  Gasoline   2264\n",
      "70  2018  Gasoline   2341\n",
      "78  2019  Gasoline   2653\n",
      "87  2020  Gasoline   2613\n",
      "96  2021  Gasoline   2423\n"
     ]
    }
   ],
   "execution_count": 13
  },
  {
   "cell_type": "markdown",
   "id": "9bce9115",
   "metadata": {},
   "source": [
    "## Wie entwickeln sich Preise über die Jahre?"
   ]
  },
  {
   "cell_type": "code",
   "id": "73f103e9",
   "metadata": {
    "ExecuteTime": {
     "end_time": "2025-06-05T09:23:28.475951Z",
     "start_time": "2025-06-05T09:23:28.450935Z"
    }
   },
   "source": [
    "durch_price = df.groupby('year')['price'].mean().sort_index()\n",
    "print(durch_price)"
   ],
   "outputs": [
    {
     "name": "stdout",
     "output_type": "stream",
     "text": [
      "year\n",
      "2011     7063.175954\n",
      "2012     8226.920502\n",
      "2013     9264.150635\n",
      "2014     9986.855011\n",
      "2015    11170.919832\n",
      "2016    12749.987521\n",
      "2017    18394.968075\n",
      "2018    22123.274890\n",
      "2019    24823.363930\n",
      "2020    29165.813800\n",
      "2021    31333.808239\n",
      "Name: price, dtype: float64\n"
     ]
    }
   ],
   "execution_count": 14
  },
  {
   "cell_type": "markdown",
   "id": "4bf5dba4",
   "metadata": {},
   "source": [
    "## Kosten Automatikautos mehr als Schaltgetriebe?"
   ]
  },
  {
   "cell_type": "code",
   "id": "f3cf34aa",
   "metadata": {
    "ExecuteTime": {
     "end_time": "2025-06-05T09:23:28.538935Z",
     "start_time": "2025-06-05T09:23:28.512936Z"
    }
   },
   "source": [
    "auto_prices = df[df['gear'] == 'Automatic']['price']\n",
    "manual_prices = df[df['gear'] == 'Manual']['price']\n",
    "\n",
    "t_stat_auto, p_val_auto = ttest_ind(auto_prices, manual_prices, equal_var=False, nan_policy='omit')\n",
    "\n",
    "print(f\"Durchschnittspreis Automatik: €{auto_prices.mean():,.2f}\")\n",
    "print(f\"Durchschnittspreis Schaltgetriebe: €{manual_prices.mean():,.2f}\")\n",
    "print(f\"T-Statistik: {t_stat_auto:.2f}\")"
   ],
   "outputs": [
    {
     "name": "stdout",
     "output_type": "stream",
     "text": [
      "Durchschnittspreis Automatik: €28,054.26\n",
      "Durchschnittspreis Schaltgetriebe: €10,501.88\n",
      "T-Statistik: 74.82\n"
     ]
    }
   ],
   "execution_count": 15
  },
  {
   "metadata": {},
   "cell_type": "markdown",
   "source": "### Korrelationsmatrix für alle numerischen Spalten",
   "id": "f0f331d7d49ddb7c"
  },
  {
   "metadata": {
    "ExecuteTime": {
     "end_time": "2025-06-05T10:17:59.598212Z",
     "start_time": "2025-06-05T10:17:59.558739Z"
    }
   },
   "cell_type": "code",
   "source": [
    "# 1. Nur numerische Spalten auswählen\n",
    "numerische_df = df.select_dtypes(include=np.number)  # Oder ['price', 'mileage', 'year', ...] für bestimmte Spalten\n",
    "print(\"Numerische Spalten für Korrelation:\", numerische_df.columns)  # Überprüfe die ausgewählten Spalten\n",
    "\n",
    "korrelationsmatrix = numerische_df.corr()\n",
    "print(\"\\nKorrelationsmatrix:\")\n",
    "print(korrelationsmatrix)\n"
   ],
   "id": "5941a5ee9e647afb",
   "outputs": [
    {
     "name": "stdout",
     "output_type": "stream",
     "text": [
      "Numerische Spalten für Korrelation: Index(['mileage', 'price', 'hp', 'year', 'age', 'price_per_mileage',\n",
      "       'cluster'],\n",
      "      dtype='object')\n",
      "\n",
      "Korrelationsmatrix:\n",
      "                    mileage     price        hp      year       age  \\\n",
      "mileage            1.000000 -0.305598 -0.022912 -0.670614  0.670614   \n",
      "price             -0.305598  1.000000  0.745003  0.411415 -0.411415   \n",
      "hp                -0.022912  0.745003  1.000000  0.181946 -0.181946   \n",
      "year              -0.670614  0.411415  0.181946  1.000000 -1.000000   \n",
      "age                0.670614 -0.411415 -0.181946 -1.000000  1.000000   \n",
      "price_per_mileage -0.150113  0.124175  0.050312  0.196366 -0.196366   \n",
      "cluster            0.638856  0.115566  0.256239 -0.440677  0.440677   \n",
      "\n",
      "                   price_per_mileage   cluster  \n",
      "mileage                    -0.150113  0.638856  \n",
      "price                       0.124175  0.115566  \n",
      "hp                          0.050312  0.256239  \n",
      "year                        0.196366 -0.440677  \n",
      "age                        -0.196366  0.440677  \n",
      "price_per_mileage           1.000000 -0.047963  \n",
      "cluster                    -0.047963  1.000000  \n"
     ]
    }
   ],
   "execution_count": 25
  },
  {
   "metadata": {},
   "cell_type": "markdown",
   "source": "### Pearson-Korrelation",
   "id": "d3331ef16a113c09"
  },
  {
   "metadata": {},
   "cell_type": "code",
   "outputs": [],
   "execution_count": null,
   "source": [
    "print(\"\\n2. Pearson-Korrelation\")\n",
    "korrelation_pearson = df['price'].corr(df['mileage'], method='pearson')\n",
    "print(f\"   Pearson-Korrelation zwischen Preis und Kilometerstand: {korrelation_pearson:.2f}\")"
   ],
   "id": "539828ab558b22e5"
  },
  {
   "metadata": {},
   "cell_type": "markdown",
   "source": "### Spearman-Korrelation",
   "id": "f62c1883b4ccd028"
  },
  {
   "metadata": {},
   "cell_type": "code",
   "outputs": [],
   "execution_count": null,
   "source": [
    "print(\"\\n3. Spearman-Korrelation\")\n",
    "korrelation_spearman = df['price'].corr(df['mileage'], method='spearman')\n",
    "print(f\"   Spearman-Korrelation zwischen Preis und Kilometerstand: {korrelation_spearman:.2f}\")"
   ],
   "id": "7b4027f5e7aed87c"
  },
  {
   "metadata": {},
   "cell_type": "markdown",
   "source": "### Kendall-Korrelation",
   "id": "c21d79d5398d5764"
  },
  {
   "metadata": {},
   "cell_type": "code",
   "outputs": [],
   "execution_count": null,
   "source": [
    "print(\"\\n4. Kendall-Korrelation\")\n",
    "korrelation_kendall = df['price'].corr(df['mileage'], method='kendall')\n",
    "print(f\"   Kendall-Korrelation zwischen Preis und Kilometerstand: {korrelation_kendall:.2f}\")"
   ],
   "id": "9e14978ce574286c"
  },
  {
   "metadata": {},
   "cell_type": "markdown",
   "source": "Ausreißer im Preis",
   "id": "6f6d095d1308f2b4"
  },
  {
   "metadata": {
    "ExecuteTime": {
     "end_time": "2025-06-05T10:15:42.080382Z",
     "start_time": "2025-06-05T10:15:41.990312Z"
    }
   },
   "cell_type": "code",
   "source": [
    "from scipy.stats import ttest_ind, f_oneway\n",
    "from datetime import datetime\n",
    "\n",
    "# 1. Datenbereinigung (wie in deinem Notebook)\n",
    "df.drop_duplicates(inplace=True)\n",
    "df.dropna(inplace=True)\n",
    "\n",
    "# 2. Erweiterte Datenanalyse und Feature Engineering\n",
    "def finde_ausreisser_iqr(data, spalte):\n",
    "    Q1 = data[spalte].quantile(0.25)\n",
    "    Q3 = data[spalte].quantile(0.75)\n",
    "    IQR = Q3 - Q1\n",
    "    untergrenze = Q1 - 1.5 * IQR\n",
    "    obergrenze = Q3 + 1.5 * IQR\n",
    "    ausreisser = data[(data[spalte] < untergrenze) | (data[spalte] > obergrenze)]\n",
    "    return ausreisser\n",
    "\n",
    "ausreisser_preis = finde_ausreisser_iqr(df, 'price')\n",
    "print(\"\\nAusreißer im Preis:\")\n",
    "print(ausreisser_preis.head())\n",
    "\n",
    "aktuelles_jahr = datetime.now().year\n",
    "df['age'] = aktuelles_jahr - df['year']\n",
    "df['price_per_mileage'] = df['price'] / df['mileage']\n",
    "\n",
    "\n"
   ],
   "id": "f591a3a96c0008a8",
   "outputs": [
    {
     "name": "stdout",
     "output_type": "stream",
     "text": [
      "\n",
      "Ausreißer im Preis:\n",
      "     mileage           make       model      fuel       gear offerType  price  \\\n",
      "120    32100  Mercedes-Benz       E 400  Gasoline  Automatic      Used  37931   \n",
      "143    85200     Volkswagen      Amarok    Diesel  Automatic      Used  37700   \n",
      "144    49900           Audi  A6 allroad    Diesel  Automatic      Used  37950   \n",
      "145    39580           Audi          Q5    Diesel  Automatic      Used  39444   \n",
      "146    49394           Audi          Q5    Diesel  Automatic      Used  42480   \n",
      "\n",
      "        hp  year  age  price_per_mileage  cluster  \n",
      "120  333.0  2017    8           1.181651        0  \n",
      "143  224.0  2018    7           0.442488        0  \n",
      "144  320.0  2018    7           0.760521        0  \n",
      "145  190.0  2018    7           0.996564        0  \n",
      "146  190.0  2018    7           0.860023        0  \n"
     ]
    }
   ],
   "execution_count": 24
  },
  {
   "metadata": {},
   "cell_type": "markdown",
   "source": "### ANOVA - Preisunterschiede nach Getriebe",
   "id": "2055d406567adb55"
  },
  {
   "metadata": {
    "ExecuteTime": {
     "end_time": "2025-06-05T10:15:34.762783Z",
     "start_time": "2025-06-05T10:15:34.714782Z"
    }
   },
   "cell_type": "code",
   "source": [
    "# 5. Statistische Tests\n",
    "gruppen = df['gear'].unique()\n",
    "gruppen_preise = [df[df['gear'] == gruppe]['price'] for gruppe in gruppen]\n",
    "\n",
    "f_wert, p_wert = f_oneway(*gruppen_preise)\n",
    "print(\"\\nANOVA - Preisunterschiede nach Getriebe:\")\n",
    "print(f\"F-Wert: {f_wert:.2f}, p-Wert: {p_wert:.3f}\")\n",
    "\n",
    "# 6. Ausgabe der ersten Zeilen des bearbeiteten DataFrames\n",
    "print(\"\\nErste Zeilen des bearbeiteten DataFrames:\")\n",
    "print(df.head())"
   ],
   "id": "f42467fdad45f545",
   "outputs": [
    {
     "name": "stdout",
     "output_type": "stream",
     "text": [
      "\n",
      "ANOVA - Preisunterschiede nach Getriebe:\n",
      "F-Wert: 4956.96, p-Wert: 0.000\n",
      "\n",
      "Erste Zeilen des bearbeiteten DataFrames:\n",
      "   mileage        make   model      fuel    gear offerType  price     hp  \\\n",
      "0   235000         BMW     316    Diesel  Manual      Used   6800  116.0   \n",
      "1    92800  Volkswagen    Golf  Gasoline  Manual      Used   6877  122.0   \n",
      "2   149300        SEAT    Exeo  Gasoline  Manual      Used   6900  160.0   \n",
      "3    96200     Renault  Megane  Gasoline  Manual      Used   6950  110.0   \n",
      "4   156000     Peugeot     308  Gasoline  Manual      Used   6950  156.0   \n",
      "\n",
      "   year  age  price_per_mileage  cluster  \n",
      "0  2011   14           0.028936        1  \n",
      "1  2011   14           0.074106        1  \n",
      "2  2011   14           0.046216        1  \n",
      "3  2011   14           0.072245        1  \n",
      "4  2011   14           0.044551        1  \n"
     ]
    }
   ],
   "execution_count": 23
  },
  {
   "metadata": {},
   "cell_type": "code",
   "outputs": [],
   "execution_count": null,
   "source": "",
   "id": "e5230a0b9194620d"
  }
 ],
 "metadata": {
  "kernelspec": {
   "display_name": "tst",
   "language": "python",
   "name": "python3"
  },
  "language_info": {
   "codemirror_mode": {
    "name": "ipython",
    "version": 3
   },
   "file_extension": ".py",
   "mimetype": "text/x-python",
   "name": "python",
   "nbconvert_exporter": "python",
   "pygments_lexer": "ipython3",
   "version": "3.11.0"
  }
 },
 "nbformat": 4,
 "nbformat_minor": 5
}
