{
 "cells": [
  {
   "cell_type": "markdown",
   "id": "f4786f60",
   "metadata": {},
   "source": [
    "## Import needed Libs"
   ]
  },
  {
   "cell_type": "code",
   "execution_count": 18,
   "id": "8dbfe8c3",
   "metadata": {},
   "outputs": [],
   "source": [
    "import pandas as pd\n",
    "import numpy as np"
   ]
  },
  {
   "cell_type": "markdown",
   "id": "c0f7325d",
   "metadata": {},
   "source": [
    "## Laden und mit den Daten spielen"
   ]
  },
  {
   "cell_type": "code",
   "execution_count": 25,
   "id": "9bf62372",
   "metadata": {},
   "outputs": [
    {
     "name": "stdout",
     "output_type": "stream",
     "text": [
      "(46405, 9)\n"
     ]
    },
    {
     "data": {
      "text/html": [
       "<div>\n",
       "<style scoped>\n",
       "    .dataframe tbody tr th:only-of-type {\n",
       "        vertical-align: middle;\n",
       "    }\n",
       "\n",
       "    .dataframe tbody tr th {\n",
       "        vertical-align: top;\n",
       "    }\n",
       "\n",
       "    .dataframe thead th {\n",
       "        text-align: right;\n",
       "    }\n",
       "</style>\n",
       "<table border=\"1\" class=\"dataframe\">\n",
       "  <thead>\n",
       "    <tr style=\"text-align: right;\">\n",
       "      <th></th>\n",
       "      <th>mileage</th>\n",
       "      <th>make</th>\n",
       "      <th>model</th>\n",
       "      <th>fuel</th>\n",
       "      <th>gear</th>\n",
       "      <th>offerType</th>\n",
       "      <th>price</th>\n",
       "      <th>hp</th>\n",
       "      <th>year</th>\n",
       "    </tr>\n",
       "  </thead>\n",
       "  <tbody>\n",
       "    <tr>\n",
       "      <th>0</th>\n",
       "      <td>235000</td>\n",
       "      <td>BMW</td>\n",
       "      <td>316</td>\n",
       "      <td>Diesel</td>\n",
       "      <td>Manual</td>\n",
       "      <td>Used</td>\n",
       "      <td>6800</td>\n",
       "      <td>116.0</td>\n",
       "      <td>2011</td>\n",
       "    </tr>\n",
       "    <tr>\n",
       "      <th>1</th>\n",
       "      <td>92800</td>\n",
       "      <td>Volkswagen</td>\n",
       "      <td>Golf</td>\n",
       "      <td>Gasoline</td>\n",
       "      <td>Manual</td>\n",
       "      <td>Used</td>\n",
       "      <td>6877</td>\n",
       "      <td>122.0</td>\n",
       "      <td>2011</td>\n",
       "    </tr>\n",
       "    <tr>\n",
       "      <th>2</th>\n",
       "      <td>149300</td>\n",
       "      <td>SEAT</td>\n",
       "      <td>Exeo</td>\n",
       "      <td>Gasoline</td>\n",
       "      <td>Manual</td>\n",
       "      <td>Used</td>\n",
       "      <td>6900</td>\n",
       "      <td>160.0</td>\n",
       "      <td>2011</td>\n",
       "    </tr>\n",
       "    <tr>\n",
       "      <th>3</th>\n",
       "      <td>96200</td>\n",
       "      <td>Renault</td>\n",
       "      <td>Megane</td>\n",
       "      <td>Gasoline</td>\n",
       "      <td>Manual</td>\n",
       "      <td>Used</td>\n",
       "      <td>6950</td>\n",
       "      <td>110.0</td>\n",
       "      <td>2011</td>\n",
       "    </tr>\n",
       "    <tr>\n",
       "      <th>4</th>\n",
       "      <td>156000</td>\n",
       "      <td>Peugeot</td>\n",
       "      <td>308</td>\n",
       "      <td>Gasoline</td>\n",
       "      <td>Manual</td>\n",
       "      <td>Used</td>\n",
       "      <td>6950</td>\n",
       "      <td>156.0</td>\n",
       "      <td>2011</td>\n",
       "    </tr>\n",
       "    <tr>\n",
       "      <th>5</th>\n",
       "      <td>147000</td>\n",
       "      <td>Toyota</td>\n",
       "      <td>Auris</td>\n",
       "      <td>Electric/Gasoline</td>\n",
       "      <td>Automatic</td>\n",
       "      <td>Used</td>\n",
       "      <td>6950</td>\n",
       "      <td>99.0</td>\n",
       "      <td>2011</td>\n",
       "    </tr>\n",
       "    <tr>\n",
       "      <th>6</th>\n",
       "      <td>91894</td>\n",
       "      <td>Renault</td>\n",
       "      <td>Scenic</td>\n",
       "      <td>Diesel</td>\n",
       "      <td>Manual</td>\n",
       "      <td>Used</td>\n",
       "      <td>6970</td>\n",
       "      <td>131.0</td>\n",
       "      <td>2011</td>\n",
       "    </tr>\n",
       "  </tbody>\n",
       "</table>\n",
       "</div>"
      ],
      "text/plain": [
       "   mileage        make   model               fuel       gear offerType  price  \\\n",
       "0   235000         BMW     316             Diesel     Manual      Used   6800   \n",
       "1    92800  Volkswagen    Golf           Gasoline     Manual      Used   6877   \n",
       "2   149300        SEAT    Exeo           Gasoline     Manual      Used   6900   \n",
       "3    96200     Renault  Megane           Gasoline     Manual      Used   6950   \n",
       "4   156000     Peugeot     308           Gasoline     Manual      Used   6950   \n",
       "5   147000      Toyota   Auris  Electric/Gasoline  Automatic      Used   6950   \n",
       "6    91894     Renault  Scenic             Diesel     Manual      Used   6970   \n",
       "\n",
       "      hp  year  \n",
       "0  116.0  2011  \n",
       "1  122.0  2011  \n",
       "2  160.0  2011  \n",
       "3  110.0  2011  \n",
       "4  156.0  2011  \n",
       "5   99.0  2011  \n",
       "6  131.0  2011  "
      ]
     },
     "execution_count": 25,
     "metadata": {},
     "output_type": "execute_result"
    }
   ],
   "source": [
    "df = pd.read_csv('../Daten/autoscout24-germany-dataset.csv')\n",
    "\n",
    "print(df.shape)\n",
    "\n",
    "df.head(7)"
   ]
  },
  {
   "cell_type": "markdown",
   "id": "c1af61b7",
   "metadata": {},
   "source": [
    "## Zählen na und doppelten Daten (um sie später zu entfernen)"
   ]
  },
  {
   "cell_type": "code",
   "execution_count": 26,
   "id": "0b77396b",
   "metadata": {},
   "outputs": [
    {
     "name": "stdout",
     "output_type": "stream",
     "text": [
      "There is: 354 missing values in the dataset\n",
      "There is: 2140 duplicates in the dataset\n"
     ]
    }
   ],
   "source": [
    "print(f\"There is: {df.isnull().sum().sum()} missing values in the dataset\")\n",
    "\n",
    "print(f\"There is: {df.duplicated().sum()} duplicates in the dataset\")"
   ]
  },
  {
   "cell_type": "markdown",
   "id": "c23df03a",
   "metadata": {},
   "source": [
    "# Datenbereinigung"
   ]
  },
  {
   "cell_type": "code",
   "execution_count": 27,
   "id": "1aa753c1",
   "metadata": {},
   "outputs": [],
   "source": [
    "# Entfernen von doppelten und fehlenden Daten\n",
    "\n",
    "df.drop_duplicates(inplace=True)\n",
    "df.dropna(inplace=True)"
   ]
  },
  {
   "cell_type": "markdown",
   "id": "2f139c0e",
   "metadata": {},
   "source": [
    "## Daten nach Bereinigung"
   ]
  },
  {
   "cell_type": "code",
   "execution_count": 29,
   "id": "15873541",
   "metadata": {},
   "outputs": [
    {
     "name": "stdout",
     "output_type": "stream",
     "text": [
      "(43947, 9)\n"
     ]
    },
    {
     "data": {
      "text/plain": [
       "<bound method DataFrame.info of        mileage        make   model               fuel    gear       offerType  \\\n",
       "0       235000         BMW     316             Diesel  Manual            Used   \n",
       "1        92800  Volkswagen    Golf           Gasoline  Manual            Used   \n",
       "2       149300        SEAT    Exeo           Gasoline  Manual            Used   \n",
       "3        96200     Renault  Megane           Gasoline  Manual            Used   \n",
       "4       156000     Peugeot     308           Gasoline  Manual            Used   \n",
       "...        ...         ...     ...                ...     ...             ...   \n",
       "46394       10     Citroen      C1           Gasoline  Manual  Pre-registered   \n",
       "46396       99        Fiat     500  Electric/Gasoline  Manual  Pre-registered   \n",
       "46397      550        Fiat     500  Electric/Gasoline  Manual   Demonstration   \n",
       "46398      837        Fiat   Panda  Electric/Gasoline  Manual   Demonstration   \n",
       "46399     1500       Skoda   Fabia           Gasoline  Manual   Demonstration   \n",
       "\n",
       "       price     hp  year  \n",
       "0       6800  116.0  2011  \n",
       "1       6877  122.0  2011  \n",
       "2       6900  160.0  2011  \n",
       "3       6950  110.0  2011  \n",
       "4       6950  156.0  2011  \n",
       "...      ...    ...   ...  \n",
       "46394  12340   72.0  2021  \n",
       "46396  12490   71.0  2021  \n",
       "46397  12805   69.0  2021  \n",
       "46398  12805   69.0  2021  \n",
       "46399  12980   60.0  2021  \n",
       "\n",
       "[43947 rows x 9 columns]>"
      ]
     },
     "execution_count": 29,
     "metadata": {},
     "output_type": "execute_result"
    }
   ],
   "source": [
    "print(df.shape)\n",
    "\n",
    "df.info"
   ]
  }
 ],
 "metadata": {
  "kernelspec": {
   "display_name": "tst",
   "language": "python",
   "name": "python3"
  },
  "language_info": {
   "codemirror_mode": {
    "name": "ipython",
    "version": 3
   },
   "file_extension": ".py",
   "mimetype": "text/x-python",
   "name": "python",
   "nbconvert_exporter": "python",
   "pygments_lexer": "ipython3",
   "version": "3.11.0"
  }
 },
 "nbformat": 4,
 "nbformat_minor": 5
}
