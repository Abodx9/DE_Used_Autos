{
 "cells": [
  {
   "cell_type": "markdown",
   "id": "f4786f60",
   "metadata": {},
   "source": [
    "## Import needed Libs"
   ]
  },
  {
   "cell_type": "code",
   "execution_count": 18,
   "id": "8dbfe8c3",
   "metadata": {},
   "outputs": [],
   "source": [
    "import pandas as pd\n",
    "import numpy as np"
   ]
  },
  {
   "cell_type": "markdown",
   "id": "c0f7325d",
   "metadata": {},
   "source": [
    "## Laden und mit den Daten spielen"
   ]
  },
  {
   "cell_type": "code",
   "execution_count": 25,
   "id": "9bf62372",
   "metadata": {},
   "outputs": [
    {
     "name": "stdout",
     "output_type": "stream",
     "text": [
      "(46405, 9)\n"
     ]
    },
    {
     "data": {
      "text/html": [
       "<div>\n",
       "<style scoped>\n",
       "    .dataframe tbody tr th:only-of-type {\n",
       "        vertical-align: middle;\n",
       "    }\n",
       "\n",
       "    .dataframe tbody tr th {\n",
       "        vertical-align: top;\n",
       "    }\n",
       "\n",
       "    .dataframe thead th {\n",
       "        text-align: right;\n",
       "    }\n",
       "</style>\n",
       "<table border=\"1\" class=\"dataframe\">\n",
       "  <thead>\n",
       "    <tr style=\"text-align: right;\">\n",
       "      <th></th>\n",
       "      <th>mileage</th>\n",
       "      <th>make</th>\n",
       "      <th>model</th>\n",
       "      <th>fuel</th>\n",
       "      <th>gear</th>\n",
       "      <th>offerType</th>\n",
       "      <th>price</th>\n",
       "      <th>hp</th>\n",
       "      <th>year</th>\n",
       "    </tr>\n",
       "  </thead>\n",
       "  <tbody>\n",
       "    <tr>\n",
       "      <th>0</th>\n",
       "      <td>235000</td>\n",
       "      <td>BMW</td>\n",
       "      <td>316</td>\n",
       "      <td>Diesel</td>\n",
       "      <td>Manual</td>\n",
       "      <td>Used</td>\n",
       "      <td>6800</td>\n",
       "      <td>116.0</td>\n",
       "      <td>2011</td>\n",
       "    </tr>\n",
       "    <tr>\n",
       "      <th>1</th>\n",
       "      <td>92800</td>\n",
       "      <td>Volkswagen</td>\n",
       "      <td>Golf</td>\n",
       "      <td>Gasoline</td>\n",
       "      <td>Manual</td>\n",
       "      <td>Used</td>\n",
       "      <td>6877</td>\n",
       "      <td>122.0</td>\n",
       "      <td>2011</td>\n",
       "    </tr>\n",
       "    <tr>\n",
       "      <th>2</th>\n",
       "      <td>149300</td>\n",
       "      <td>SEAT</td>\n",
       "      <td>Exeo</td>\n",
       "      <td>Gasoline</td>\n",
       "      <td>Manual</td>\n",
       "      <td>Used</td>\n",
       "      <td>6900</td>\n",
       "      <td>160.0</td>\n",
       "      <td>2011</td>\n",
       "    </tr>\n",
       "    <tr>\n",
       "      <th>3</th>\n",
       "      <td>96200</td>\n",
       "      <td>Renault</td>\n",
       "      <td>Megane</td>\n",
       "      <td>Gasoline</td>\n",
       "      <td>Manual</td>\n",
       "      <td>Used</td>\n",
       "      <td>6950</td>\n",
       "      <td>110.0</td>\n",
       "      <td>2011</td>\n",
       "    </tr>\n",
       "    <tr>\n",
       "      <th>4</th>\n",
       "      <td>156000</td>\n",
       "      <td>Peugeot</td>\n",
       "      <td>308</td>\n",
       "      <td>Gasoline</td>\n",
       "      <td>Manual</td>\n",
       "      <td>Used</td>\n",
       "      <td>6950</td>\n",
       "      <td>156.0</td>\n",
       "      <td>2011</td>\n",
       "    </tr>\n",
       "    <tr>\n",
       "      <th>5</th>\n",
       "      <td>147000</td>\n",
       "      <td>Toyota</td>\n",
       "      <td>Auris</td>\n",
       "      <td>Electric/Gasoline</td>\n",
       "      <td>Automatic</td>\n",
       "      <td>Used</td>\n",
       "      <td>6950</td>\n",
       "      <td>99.0</td>\n",
       "      <td>2011</td>\n",
       "    </tr>\n",
       "    <tr>\n",
       "      <th>6</th>\n",
       "      <td>91894</td>\n",
       "      <td>Renault</td>\n",
       "      <td>Scenic</td>\n",
       "      <td>Diesel</td>\n",
       "      <td>Manual</td>\n",
       "      <td>Used</td>\n",
       "      <td>6970</td>\n",
       "      <td>131.0</td>\n",
       "      <td>2011</td>\n",
       "    </tr>\n",
       "  </tbody>\n",
       "</table>\n",
       "</div>"
      ],
      "text/plain": [
       "   mileage        make   model               fuel       gear offerType  price  \\\n",
       "0   235000         BMW     316             Diesel     Manual      Used   6800   \n",
       "1    92800  Volkswagen    Golf           Gasoline     Manual      Used   6877   \n",
       "2   149300        SEAT    Exeo           Gasoline     Manual      Used   6900   \n",
       "3    96200     Renault  Megane           Gasoline     Manual      Used   6950   \n",
       "4   156000     Peugeot     308           Gasoline     Manual      Used   6950   \n",
       "5   147000      Toyota   Auris  Electric/Gasoline  Automatic      Used   6950   \n",
       "6    91894     Renault  Scenic             Diesel     Manual      Used   6970   \n",
       "\n",
       "      hp  year  \n",
       "0  116.0  2011  \n",
       "1  122.0  2011  \n",
       "2  160.0  2011  \n",
       "3  110.0  2011  \n",
       "4  156.0  2011  \n",
       "5   99.0  2011  \n",
       "6  131.0  2011  "
      ]
     },
     "execution_count": 25,
     "metadata": {},
     "output_type": "execute_result"
    }
   ],
   "source": [
    "df = pd.read_csv('../Daten/autoscout24-germany-dataset.csv')\n",
    "\n",
    "print(df.shape)\n",
    "\n",
    "df.head(7)"
   ]
  },
  {
   "cell_type": "markdown",
   "id": "c1af61b7",
   "metadata": {},
   "source": [
    "## Zählen na und doppelten Daten (um sie später zu entfernen)"
   ]
  },
  {
   "cell_type": "code",
   "execution_count": 26,
   "id": "0b77396b",
   "metadata": {},
   "outputs": [
    {
     "name": "stdout",
     "output_type": "stream",
     "text": [
      "There is: 354 missing values in the dataset\n",
      "There is: 2140 duplicates in the dataset\n"
     ]
    }
   ],
   "source": [
    "print(f\"There is: {df.isnull().sum().sum()} missing values in the dataset\")\n",
    "\n",
    "print(f\"There is: {df.duplicated().sum()} duplicates in the dataset\")"
   ]
  },
  {
   "cell_type": "markdown",
   "id": "c23df03a",
   "metadata": {},
   "source": [
    "# Datenbereinigung"
   ]
  },
  {
   "cell_type": "code",
   "execution_count": 27,
   "id": "1aa753c1",
   "metadata": {},
   "outputs": [],
   "source": [
    "# Entfernen von doppelten und fehlenden Daten\n",
    "\n",
    "df.drop_duplicates(inplace=True)\n",
    "df.dropna(inplace=True)"
   ]
  },
  {
   "cell_type": "markdown",
   "id": "2f139c0e",
   "metadata": {},
   "source": [
    "## Daten nach Bereinigung"
   ]
  },
  {
   "cell_type": "code",
   "execution_count": 29,
   "id": "15873541",
   "metadata": {},
   "outputs": [
    {
     "name": "stdout",
     "output_type": "stream",
     "text": [
      "(43947, 9)\n"
     ]
    },
    {
     "data": {
      "text/plain": [
       "<bound method DataFrame.info of        mileage        make   model               fuel    gear       offerType  \\\n",
       "0       235000         BMW     316             Diesel  Manual            Used   \n",
       "1        92800  Volkswagen    Golf           Gasoline  Manual            Used   \n",
       "2       149300        SEAT    Exeo           Gasoline  Manual            Used   \n",
       "3        96200     Renault  Megane           Gasoline  Manual            Used   \n",
       "4       156000     Peugeot     308           Gasoline  Manual            Used   \n",
       "...        ...         ...     ...                ...     ...             ...   \n",
       "46394       10     Citroen      C1           Gasoline  Manual  Pre-registered   \n",
       "46396       99        Fiat     500  Electric/Gasoline  Manual  Pre-registered   \n",
       "46397      550        Fiat     500  Electric/Gasoline  Manual   Demonstration   \n",
       "46398      837        Fiat   Panda  Electric/Gasoline  Manual   Demonstration   \n",
       "46399     1500       Skoda   Fabia           Gasoline  Manual   Demonstration   \n",
       "\n",
       "       price     hp  year  \n",
       "0       6800  116.0  2011  \n",
       "1       6877  122.0  2011  \n",
       "2       6900  160.0  2011  \n",
       "3       6950  110.0  2011  \n",
       "4       6950  156.0  2011  \n",
       "...      ...    ...   ...  \n",
       "46394  12340   72.0  2021  \n",
       "46396  12490   71.0  2021  \n",
       "46397  12805   69.0  2021  \n",
       "46398  12805   69.0  2021  \n",
       "46399  12980   60.0  2021  \n",
       "\n",
       "[43947 rows x 9 columns]>"
      ]
     },
     "execution_count": 29,
     "metadata": {},
     "output_type": "execute_result"
    }
   ],
   "source": [
    "print(df.shape)\n",
    "\n",
    "df.info"
   ]
  },
  {
   "cell_type": "markdown",
   "id": "4e520598",
   "metadata": {},
   "source": [
    "## Die Fahrzeugtypen (Gear)"
   ]
  },
  {
   "cell_type": "code",
   "execution_count": 30,
   "id": "aea1bb4f",
   "metadata": {},
   "outputs": [
    {
     "data": {
      "text/plain": [
       "gear\n",
       "Manual            28752\n",
       "Automatic         15141\n",
       "Semi-automatic       54\n",
       "Name: count, dtype: int64"
      ]
     },
     "execution_count": 30,
     "metadata": {},
     "output_type": "execute_result"
    }
   ],
   "source": [
    "gear = df['gear'].value_counts();\n",
    "gear.head()"
   ]
  },
  {
   "cell_type": "markdown",
   "id": "3abe8d8b",
   "metadata": {},
   "source": [
    "## Teuersten Autos auf dem deutschen Automarkt"
   ]
  },
  {
   "cell_type": "code",
   "execution_count": 32,
   "id": "ea3604eb",
   "metadata": {},
   "outputs": [
    {
     "data": {
      "text/html": [
       "<div>\n",
       "<style scoped>\n",
       "    .dataframe tbody tr th:only-of-type {\n",
       "        vertical-align: middle;\n",
       "    }\n",
       "\n",
       "    .dataframe tbody tr th {\n",
       "        vertical-align: top;\n",
       "    }\n",
       "\n",
       "    .dataframe thead th {\n",
       "        text-align: right;\n",
       "    }\n",
       "</style>\n",
       "<table border=\"1\" class=\"dataframe\">\n",
       "  <thead>\n",
       "    <tr style=\"text-align: right;\">\n",
       "      <th></th>\n",
       "      <th>make</th>\n",
       "      <th>model</th>\n",
       "      <th>price</th>\n",
       "    </tr>\n",
       "  </thead>\n",
       "  <tbody>\n",
       "    <tr>\n",
       "      <th>21675</th>\n",
       "      <td>Ferrari</td>\n",
       "      <td>F12</td>\n",
       "      <td>1199900</td>\n",
       "    </tr>\n",
       "    <tr>\n",
       "      <th>11753</th>\n",
       "      <td>Maybach</td>\n",
       "      <td>Pullman</td>\n",
       "      <td>717078</td>\n",
       "    </tr>\n",
       "    <tr>\n",
       "      <th>11754</th>\n",
       "      <td>Mercedes-Benz</td>\n",
       "      <td>S 650</td>\n",
       "      <td>717078</td>\n",
       "    </tr>\n",
       "    <tr>\n",
       "      <th>16429</th>\n",
       "      <td>Maybach</td>\n",
       "      <td>Pullman</td>\n",
       "      <td>499800</td>\n",
       "    </tr>\n",
       "    <tr>\n",
       "      <th>29257</th>\n",
       "      <td>Mercedes-Benz</td>\n",
       "      <td>SLS</td>\n",
       "      <td>465000</td>\n",
       "    </tr>\n",
       "    <tr>\n",
       "      <th>7384</th>\n",
       "      <td>Lamborghini</td>\n",
       "      <td>Aventador</td>\n",
       "      <td>449900</td>\n",
       "    </tr>\n",
       "    <tr>\n",
       "      <th>7383</th>\n",
       "      <td>Lamborghini</td>\n",
       "      <td>Aventador</td>\n",
       "      <td>439900</td>\n",
       "    </tr>\n",
       "    <tr>\n",
       "      <th>18419</th>\n",
       "      <td>Ferrari</td>\n",
       "      <td>812</td>\n",
       "      <td>439900</td>\n",
       "    </tr>\n",
       "    <tr>\n",
       "      <th>2170</th>\n",
       "      <td>Lamborghini</td>\n",
       "      <td>Aventador</td>\n",
       "      <td>399999</td>\n",
       "    </tr>\n",
       "    <tr>\n",
       "      <th>42132</th>\n",
       "      <td>Porsche</td>\n",
       "      <td>991</td>\n",
       "      <td>399911</td>\n",
       "    </tr>\n",
       "  </tbody>\n",
       "</table>\n",
       "</div>"
      ],
      "text/plain": [
       "                make      model    price\n",
       "21675        Ferrari        F12  1199900\n",
       "11753        Maybach    Pullman   717078\n",
       "11754  Mercedes-Benz      S 650   717078\n",
       "16429        Maybach    Pullman   499800\n",
       "29257  Mercedes-Benz        SLS   465000\n",
       "7384     Lamborghini  Aventador   449900\n",
       "7383     Lamborghini  Aventador   439900\n",
       "18419        Ferrari        812   439900\n",
       "2170     Lamborghini  Aventador   399999\n",
       "42132        Porsche        991   399911"
      ]
     },
     "execution_count": 32,
     "metadata": {},
     "output_type": "execute_result"
    }
   ],
   "source": [
    "teuer_autos = df[['make', 'model', 'price']].sort_values('price', ascending=False).head(10)\n",
    "teuer_autos"
   ]
  },
  {
   "cell_type": "markdown",
   "id": "cf671560",
   "metadata": {},
   "source": [
    "## Gesamtzahl der Fahrzeuge je Hersteller"
   ]
  },
  {
   "cell_type": "code",
   "execution_count": 33,
   "id": "63c2a532",
   "metadata": {},
   "outputs": [
    {
     "data": {
      "text/plain": [
       "make\n",
       "Volkswagen    6680\n",
       "Opel          4576\n",
       "Ford          4245\n",
       "Skoda         2737\n",
       "Renault       2659\n",
       "              ... \n",
       "Brilliance       1\n",
       "Others           1\n",
       "FISKER           1\n",
       "Isuzu            1\n",
       "Alpine           1\n",
       "Name: count, Length: 71, dtype: int64"
      ]
     },
     "execution_count": 33,
     "metadata": {},
     "output_type": "execute_result"
    }
   ],
   "source": [
    "df['make'].value_counts()"
   ]
  },
  {
   "cell_type": "markdown",
   "id": "35e992b4",
   "metadata": {},
   "source": [
    "## Wirkt sich der Preis auf die Nutzung des Autos aus?\n",
    "\n",
    "* Die Korrelation ist negativ und beträgt etwa -0.31.\n",
    "\n",
    "* Das heißt: Je höher die Laufleistung, desto niedriger ist tendenziell der Preis (und umgekehrt).\n",
    "\n",
    "* Der Zusammenhang ist moderat (nicht sehr stark, aber auch nicht vernachlässigbar)."
   ]
  },
  {
   "cell_type": "code",
   "execution_count": 38,
   "id": "04c0c9c0",
   "metadata": {},
   "outputs": [
    {
     "name": "stdout",
     "output_type": "stream",
     "text": [
      "\n",
      "Basis-Korrelationsanalyse:\n",
      "            price   mileage\n",
      "price    1.000000 -0.305598\n",
      "mileage -0.305598  1.000000\n"
     ]
    }
   ],
   "source": [
    "print(\"\\nBasis-Korrelationsanalyse:\")\n",
    "\n",
    "korr_Ma = df[['price', 'mileage']].corr()\n",
    "print(korr_Ma)"
   ]
  },
  {
   "cell_type": "markdown",
   "id": "ffe98954",
   "metadata": {},
   "source": [
    "##  bestes Jahr für den Autoverkauf"
   ]
  },
  {
   "cell_type": "code",
   "execution_count": 43,
   "id": "3470ece5",
   "metadata": {},
   "outputs": [
    {
     "name": "stdout",
     "output_type": "stream",
     "text": [
      "year\n",
      "2013    4096\n",
      "2020    4087\n",
      "2016    4087\n",
      "2018    4078\n",
      "2017    4072\n",
      "2012    4063\n",
      "2015    4054\n",
      "2019    4031\n",
      "2014    4021\n",
      "2011    3984\n",
      "2021    3374\n",
      "Name: make, dtype: int64\n"
     ]
    }
   ],
   "source": [
    "jahr_za = df.groupby('year')['make'].count()\n",
    "\n",
    "sort = jahr_za.sort_values(ascending=False)\n",
    "print(sort)\n"
   ]
  },
  {
   "cell_type": "markdown",
   "id": "d08ccaf4",
   "metadata": {},
   "source": [
    "## Beliebtheit der Kraftstoffart im Laufe der Zeit"
   ]
  },
  {
   "cell_type": "code",
   "execution_count": 45,
   "id": "160b34fe",
   "metadata": {},
   "outputs": [
    {
     "name": "stdout",
     "output_type": "stream",
     "text": [
      "Häufigste Kraftstoffart pro Jahr:\n",
      "    year      fuel  count\n",
      "6   2011  Gasoline   2564\n",
      "15  2012  Gasoline   2530\n",
      "24  2013  Gasoline   2541\n",
      "33  2014  Gasoline   2471\n",
      "42  2015  Gasoline   2424\n",
      "51  2016  Gasoline   2422\n",
      "60  2017  Gasoline   2264\n",
      "70  2018  Gasoline   2341\n",
      "78  2019  Gasoline   2653\n",
      "87  2020  Gasoline   2613\n",
      "96  2021  Gasoline   2423\n"
     ]
    }
   ],
   "source": [
    "print(\"Häufigste Kraftstoffart pro Jahr:\")\n",
    "fuel_year = df.groupby(['year', 'fuel']).size().reset_index(name='count')\n",
    "beliebt_fuel = fuel_year.loc[fuel_year.groupby('year')['count'].idxmax()]\n",
    "print(beliebt_fuel)"
   ]
  }
 ],
 "metadata": {
  "kernelspec": {
   "display_name": "tst",
   "language": "python",
   "name": "python3"
  },
  "language_info": {
   "codemirror_mode": {
    "name": "ipython",
    "version": 3
   },
   "file_extension": ".py",
   "mimetype": "text/x-python",
   "name": "python",
   "nbconvert_exporter": "python",
   "pygments_lexer": "ipython3",
   "version": "3.11.0"
  }
 },
 "nbformat": 4,
 "nbformat_minor": 5
}
